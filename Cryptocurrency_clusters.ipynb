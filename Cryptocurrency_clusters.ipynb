{
 "cells": [
  {
   "cell_type": "code",
   "execution_count": 49,
   "metadata": {},
   "outputs": [],
   "source": [
    "import pandas as pd\n",
    "import numpy as np\n",
    "from sklearn.preprocessing import StandardScaler\n",
    "from sklearn.manifold import TSNE\n",
    "from sklearn.decomposition import PCA\n",
    "from sklearn.cluster import KMeans\n",
    "import matplotlib.pyplot as plt"
   ]
  },
  {
   "cell_type": "code",
   "execution_count": 136,
   "metadata": {},
   "outputs": [
    {
     "data": {
      "text/html": [
       "<div>\n",
       "<style scoped>\n",
       "    .dataframe tbody tr th:only-of-type {\n",
       "        vertical-align: middle;\n",
       "    }\n",
       "\n",
       "    .dataframe tbody tr th {\n",
       "        vertical-align: top;\n",
       "    }\n",
       "\n",
       "    .dataframe thead th {\n",
       "        text-align: right;\n",
       "    }\n",
       "</style>\n",
       "<table border=\"1\" class=\"dataframe\">\n",
       "  <thead>\n",
       "    <tr style=\"text-align: right;\">\n",
       "      <th></th>\n",
       "      <th>Unnamed: 0</th>\n",
       "      <th>CoinName</th>\n",
       "      <th>Algorithm</th>\n",
       "      <th>IsTrading</th>\n",
       "      <th>ProofType</th>\n",
       "      <th>TotalCoinsMined</th>\n",
       "      <th>TotalCoinSupply</th>\n",
       "    </tr>\n",
       "  </thead>\n",
       "  <tbody>\n",
       "    <tr>\n",
       "      <th>0</th>\n",
       "      <td>42</td>\n",
       "      <td>42 Coin</td>\n",
       "      <td>Scrypt</td>\n",
       "      <td>True</td>\n",
       "      <td>PoW/PoS</td>\n",
       "      <td>4.199995e+01</td>\n",
       "      <td>42</td>\n",
       "    </tr>\n",
       "    <tr>\n",
       "      <th>1</th>\n",
       "      <td>365</td>\n",
       "      <td>365Coin</td>\n",
       "      <td>X11</td>\n",
       "      <td>True</td>\n",
       "      <td>PoW/PoS</td>\n",
       "      <td>NaN</td>\n",
       "      <td>2300000000</td>\n",
       "    </tr>\n",
       "    <tr>\n",
       "      <th>2</th>\n",
       "      <td>404</td>\n",
       "      <td>404Coin</td>\n",
       "      <td>Scrypt</td>\n",
       "      <td>True</td>\n",
       "      <td>PoW/PoS</td>\n",
       "      <td>1.055185e+09</td>\n",
       "      <td>532000000</td>\n",
       "    </tr>\n",
       "    <tr>\n",
       "      <th>3</th>\n",
       "      <td>611</td>\n",
       "      <td>SixEleven</td>\n",
       "      <td>SHA-256</td>\n",
       "      <td>True</td>\n",
       "      <td>PoW</td>\n",
       "      <td>NaN</td>\n",
       "      <td>611000</td>\n",
       "    </tr>\n",
       "    <tr>\n",
       "      <th>4</th>\n",
       "      <td>808</td>\n",
       "      <td>808</td>\n",
       "      <td>SHA-256</td>\n",
       "      <td>True</td>\n",
       "      <td>PoW/PoS</td>\n",
       "      <td>0.000000e+00</td>\n",
       "      <td>0</td>\n",
       "    </tr>\n",
       "  </tbody>\n",
       "</table>\n",
       "</div>"
      ],
      "text/plain": [
       "  Unnamed: 0   CoinName Algorithm  IsTrading ProofType  TotalCoinsMined  \\\n",
       "0         42    42 Coin    Scrypt       True   PoW/PoS     4.199995e+01   \n",
       "1        365    365Coin       X11       True   PoW/PoS              NaN   \n",
       "2        404    404Coin    Scrypt       True   PoW/PoS     1.055185e+09   \n",
       "3        611  SixEleven   SHA-256       True       PoW              NaN   \n",
       "4        808        808   SHA-256       True   PoW/PoS     0.000000e+00   \n",
       "\n",
       "  TotalCoinSupply  \n",
       "0              42  \n",
       "1      2300000000  \n",
       "2       532000000  \n",
       "3          611000  \n",
       "4               0  "
      ]
     },
     "execution_count": 136,
     "metadata": {},
     "output_type": "execute_result"
    }
   ],
   "source": [
    "crypto_df = pd.read_csv(\"data/crypto_data.csv\")\n",
    "crypto_df.head()"
   ]
  },
  {
   "cell_type": "markdown",
   "metadata": {},
   "source": [
    "# Data Preprocessing"
   ]
  },
  {
   "cell_type": "code",
   "execution_count": 137,
   "metadata": {
    "tags": []
   },
   "outputs": [
    {
     "data": {
      "text/plain": [
       "Unnamed: 0           0\n",
       "CoinName             0\n",
       "Algorithm            0\n",
       "IsTrading            0\n",
       "ProofType            0\n",
       "TotalCoinsMined    508\n",
       "TotalCoinSupply      0\n",
       "dtype: int64"
      ]
     },
     "execution_count": 137,
     "metadata": {},
     "output_type": "execute_result"
    }
   ],
   "source": [
    "crypto_df.duplicated().sum()\n",
    "crypto_df.isna().sum()"
   ]
  },
  {
   "cell_type": "code",
   "execution_count": 138,
   "metadata": {},
   "outputs": [],
   "source": [
    "crypto_df.dropna(inplace = True)\n",
    "crypto_df.drop(\"Unnamed: 0\", axis = 1, inplace = True)"
   ]
  },
  {
   "cell_type": "code",
   "execution_count": 139,
   "metadata": {},
   "outputs": [
    {
     "data": {
      "text/html": [
       "<div>\n",
       "<style scoped>\n",
       "    .dataframe tbody tr th:only-of-type {\n",
       "        vertical-align: middle;\n",
       "    }\n",
       "\n",
       "    .dataframe tbody tr th {\n",
       "        vertical-align: top;\n",
       "    }\n",
       "\n",
       "    .dataframe thead th {\n",
       "        text-align: right;\n",
       "    }\n",
       "</style>\n",
       "<table border=\"1\" class=\"dataframe\">\n",
       "  <thead>\n",
       "    <tr style=\"text-align: right;\">\n",
       "      <th></th>\n",
       "      <th>CoinName</th>\n",
       "      <th>Algorithm</th>\n",
       "      <th>IsTrading</th>\n",
       "      <th>ProofType</th>\n",
       "      <th>TotalCoinsMined</th>\n",
       "      <th>TotalCoinSupply</th>\n",
       "    </tr>\n",
       "  </thead>\n",
       "  <tbody>\n",
       "    <tr>\n",
       "      <th>0</th>\n",
       "      <td>42 Coin</td>\n",
       "      <td>Scrypt</td>\n",
       "      <td>True</td>\n",
       "      <td>PoW/PoS</td>\n",
       "      <td>4.199995e+01</td>\n",
       "      <td>42</td>\n",
       "    </tr>\n",
       "    <tr>\n",
       "      <th>2</th>\n",
       "      <td>404Coin</td>\n",
       "      <td>Scrypt</td>\n",
       "      <td>True</td>\n",
       "      <td>PoW/PoS</td>\n",
       "      <td>1.055185e+09</td>\n",
       "      <td>532000000</td>\n",
       "    </tr>\n",
       "    <tr>\n",
       "      <th>4</th>\n",
       "      <td>808</td>\n",
       "      <td>SHA-256</td>\n",
       "      <td>True</td>\n",
       "      <td>PoW/PoS</td>\n",
       "      <td>0.000000e+00</td>\n",
       "      <td>0</td>\n",
       "    </tr>\n",
       "    <tr>\n",
       "      <th>5</th>\n",
       "      <td>EliteCoin</td>\n",
       "      <td>X13</td>\n",
       "      <td>True</td>\n",
       "      <td>PoW/PoS</td>\n",
       "      <td>2.927942e+10</td>\n",
       "      <td>314159265359</td>\n",
       "    </tr>\n",
       "    <tr>\n",
       "      <th>7</th>\n",
       "      <td>Bitcoin</td>\n",
       "      <td>SHA-256</td>\n",
       "      <td>True</td>\n",
       "      <td>PoW</td>\n",
       "      <td>1.792718e+07</td>\n",
       "      <td>21000000</td>\n",
       "    </tr>\n",
       "  </tbody>\n",
       "</table>\n",
       "</div>"
      ],
      "text/plain": [
       "    CoinName Algorithm  IsTrading ProofType  TotalCoinsMined TotalCoinSupply\n",
       "0    42 Coin    Scrypt       True   PoW/PoS     4.199995e+01              42\n",
       "2    404Coin    Scrypt       True   PoW/PoS     1.055185e+09       532000000\n",
       "4        808   SHA-256       True   PoW/PoS     0.000000e+00               0\n",
       "5  EliteCoin       X13       True   PoW/PoS     2.927942e+10    314159265359\n",
       "7    Bitcoin   SHA-256       True       PoW     1.792718e+07        21000000"
      ]
     },
     "execution_count": 139,
     "metadata": {},
     "output_type": "execute_result"
    }
   ],
   "source": [
    "crypto_currency_df = crypto_df.loc[crypto_df.IsTrading == True]\n",
    "crypto_currency_df.head()"
   ]
  },
  {
   "cell_type": "code",
   "execution_count": 140,
   "metadata": {},
   "outputs": [
    {
     "data": {
      "text/html": [
       "<div>\n",
       "<style scoped>\n",
       "    .dataframe tbody tr th:only-of-type {\n",
       "        vertical-align: middle;\n",
       "    }\n",
       "\n",
       "    .dataframe tbody tr th {\n",
       "        vertical-align: top;\n",
       "    }\n",
       "\n",
       "    .dataframe thead th {\n",
       "        text-align: right;\n",
       "    }\n",
       "</style>\n",
       "<table border=\"1\" class=\"dataframe\">\n",
       "  <thead>\n",
       "    <tr style=\"text-align: right;\">\n",
       "      <th></th>\n",
       "      <th>CoinName</th>\n",
       "      <th>Algorithm</th>\n",
       "      <th>IsTrading</th>\n",
       "      <th>ProofType</th>\n",
       "      <th>TotalCoinsMined</th>\n",
       "      <th>TotalCoinSupply</th>\n",
       "    </tr>\n",
       "  </thead>\n",
       "  <tbody>\n",
       "    <tr>\n",
       "      <th>0</th>\n",
       "      <td>42 Coin</td>\n",
       "      <td>Scrypt</td>\n",
       "      <td>True</td>\n",
       "      <td>PoW/PoS</td>\n",
       "      <td>4.199995e+01</td>\n",
       "      <td>42</td>\n",
       "    </tr>\n",
       "    <tr>\n",
       "      <th>2</th>\n",
       "      <td>404Coin</td>\n",
       "      <td>Scrypt</td>\n",
       "      <td>True</td>\n",
       "      <td>PoW/PoS</td>\n",
       "      <td>1.055185e+09</td>\n",
       "      <td>532000000</td>\n",
       "    </tr>\n",
       "    <tr>\n",
       "      <th>5</th>\n",
       "      <td>EliteCoin</td>\n",
       "      <td>X13</td>\n",
       "      <td>True</td>\n",
       "      <td>PoW/PoS</td>\n",
       "      <td>2.927942e+10</td>\n",
       "      <td>314159265359</td>\n",
       "    </tr>\n",
       "    <tr>\n",
       "      <th>7</th>\n",
       "      <td>Bitcoin</td>\n",
       "      <td>SHA-256</td>\n",
       "      <td>True</td>\n",
       "      <td>PoW</td>\n",
       "      <td>1.792718e+07</td>\n",
       "      <td>21000000</td>\n",
       "    </tr>\n",
       "    <tr>\n",
       "      <th>8</th>\n",
       "      <td>Ethereum</td>\n",
       "      <td>Ethash</td>\n",
       "      <td>True</td>\n",
       "      <td>PoW</td>\n",
       "      <td>1.076842e+08</td>\n",
       "      <td>0</td>\n",
       "    </tr>\n",
       "    <tr>\n",
       "      <th>...</th>\n",
       "      <td>...</td>\n",
       "      <td>...</td>\n",
       "      <td>...</td>\n",
       "      <td>...</td>\n",
       "      <td>...</td>\n",
       "      <td>...</td>\n",
       "    </tr>\n",
       "    <tr>\n",
       "      <th>1238</th>\n",
       "      <td>ZEPHYR</td>\n",
       "      <td>SHA-256</td>\n",
       "      <td>True</td>\n",
       "      <td>DPoS</td>\n",
       "      <td>2.000000e+09</td>\n",
       "      <td>2000000000</td>\n",
       "    </tr>\n",
       "    <tr>\n",
       "      <th>1242</th>\n",
       "      <td>Gapcoin</td>\n",
       "      <td>Scrypt</td>\n",
       "      <td>True</td>\n",
       "      <td>PoW/PoS</td>\n",
       "      <td>1.493105e+07</td>\n",
       "      <td>250000000</td>\n",
       "    </tr>\n",
       "    <tr>\n",
       "      <th>1245</th>\n",
       "      <td>Beldex</td>\n",
       "      <td>CryptoNight</td>\n",
       "      <td>True</td>\n",
       "      <td>PoW</td>\n",
       "      <td>9.802226e+08</td>\n",
       "      <td>1400222610</td>\n",
       "    </tr>\n",
       "    <tr>\n",
       "      <th>1246</th>\n",
       "      <td>Horizen</td>\n",
       "      <td>Equihash</td>\n",
       "      <td>True</td>\n",
       "      <td>PoW</td>\n",
       "      <td>7.296538e+06</td>\n",
       "      <td>21000000</td>\n",
       "    </tr>\n",
       "    <tr>\n",
       "      <th>1247</th>\n",
       "      <td>BitcoinPlus</td>\n",
       "      <td>Scrypt</td>\n",
       "      <td>True</td>\n",
       "      <td>PoS</td>\n",
       "      <td>1.283270e+05</td>\n",
       "      <td>1000000</td>\n",
       "    </tr>\n",
       "  </tbody>\n",
       "</table>\n",
       "<p>532 rows × 6 columns</p>\n",
       "</div>"
      ],
      "text/plain": [
       "         CoinName    Algorithm  IsTrading ProofType  TotalCoinsMined  \\\n",
       "0         42 Coin       Scrypt       True   PoW/PoS     4.199995e+01   \n",
       "2         404Coin       Scrypt       True   PoW/PoS     1.055185e+09   \n",
       "5       EliteCoin          X13       True   PoW/PoS     2.927942e+10   \n",
       "7         Bitcoin      SHA-256       True       PoW     1.792718e+07   \n",
       "8        Ethereum       Ethash       True       PoW     1.076842e+08   \n",
       "...           ...          ...        ...       ...              ...   \n",
       "1238       ZEPHYR      SHA-256       True      DPoS     2.000000e+09   \n",
       "1242      Gapcoin       Scrypt       True   PoW/PoS     1.493105e+07   \n",
       "1245       Beldex  CryptoNight       True       PoW     9.802226e+08   \n",
       "1246      Horizen     Equihash       True       PoW     7.296538e+06   \n",
       "1247  BitcoinPlus       Scrypt       True       PoS     1.283270e+05   \n",
       "\n",
       "     TotalCoinSupply  \n",
       "0                 42  \n",
       "2          532000000  \n",
       "5       314159265359  \n",
       "7           21000000  \n",
       "8                  0  \n",
       "...              ...  \n",
       "1238      2000000000  \n",
       "1242       250000000  \n",
       "1245      1400222610  \n",
       "1246        21000000  \n",
       "1247         1000000  \n",
       "\n",
       "[532 rows x 6 columns]"
      ]
     },
     "execution_count": 140,
     "metadata": {},
     "output_type": "execute_result"
    }
   ],
   "source": [
    "crypto_currency = crypto_currency_df.loc[crypto_currency_df.TotalCoinsMined > 0].copy()\n",
    "crypto_currency"
   ]
  },
  {
   "cell_type": "code",
   "execution_count": 141,
   "metadata": {},
   "outputs": [
    {
     "data": {
      "text/html": [
       "<div>\n",
       "<style scoped>\n",
       "    .dataframe tbody tr th:only-of-type {\n",
       "        vertical-align: middle;\n",
       "    }\n",
       "\n",
       "    .dataframe tbody tr th {\n",
       "        vertical-align: top;\n",
       "    }\n",
       "\n",
       "    .dataframe thead th {\n",
       "        text-align: right;\n",
       "    }\n",
       "</style>\n",
       "<table border=\"1\" class=\"dataframe\">\n",
       "  <thead>\n",
       "    <tr style=\"text-align: right;\">\n",
       "      <th></th>\n",
       "      <th>CoinName</th>\n",
       "      <th>Algorithm</th>\n",
       "      <th>IsTrading</th>\n",
       "      <th>ProofType</th>\n",
       "      <th>TotalCoinsMined</th>\n",
       "      <th>TotalCoinSupply</th>\n",
       "    </tr>\n",
       "  </thead>\n",
       "  <tbody>\n",
       "    <tr>\n",
       "      <th>0</th>\n",
       "      <td>42 Coin</td>\n",
       "      <td>52.0</td>\n",
       "      <td>True</td>\n",
       "      <td>15.0</td>\n",
       "      <td>4.199995e+01</td>\n",
       "      <td>42</td>\n",
       "    </tr>\n",
       "    <tr>\n",
       "      <th>2</th>\n",
       "      <td>404Coin</td>\n",
       "      <td>52.0</td>\n",
       "      <td>True</td>\n",
       "      <td>15.0</td>\n",
       "      <td>1.055185e+09</td>\n",
       "      <td>532000000</td>\n",
       "    </tr>\n",
       "    <tr>\n",
       "      <th>5</th>\n",
       "      <td>EliteCoin</td>\n",
       "      <td>66.0</td>\n",
       "      <td>True</td>\n",
       "      <td>15.0</td>\n",
       "      <td>2.927942e+10</td>\n",
       "      <td>314159265359</td>\n",
       "    </tr>\n",
       "    <tr>\n",
       "      <th>7</th>\n",
       "      <td>Bitcoin</td>\n",
       "      <td>47.0</td>\n",
       "      <td>True</td>\n",
       "      <td>12.0</td>\n",
       "      <td>1.792718e+07</td>\n",
       "      <td>21000000</td>\n",
       "    </tr>\n",
       "    <tr>\n",
       "      <th>8</th>\n",
       "      <td>Ethereum</td>\n",
       "      <td>20.0</td>\n",
       "      <td>True</td>\n",
       "      <td>12.0</td>\n",
       "      <td>1.076842e+08</td>\n",
       "      <td>0</td>\n",
       "    </tr>\n",
       "  </tbody>\n",
       "</table>\n",
       "</div>"
      ],
      "text/plain": [
       "    CoinName  Algorithm  IsTrading  ProofType  TotalCoinsMined TotalCoinSupply\n",
       "0    42 Coin       52.0       True       15.0     4.199995e+01              42\n",
       "2    404Coin       52.0       True       15.0     1.055185e+09       532000000\n",
       "5  EliteCoin       66.0       True       15.0     2.927942e+10    314159265359\n",
       "7    Bitcoin       47.0       True       12.0     1.792718e+07        21000000\n",
       "8   Ethereum       20.0       True       12.0     1.076842e+08               0"
      ]
     },
     "execution_count": 141,
     "metadata": {},
     "output_type": "execute_result"
    }
   ],
   "source": [
    "from sklearn.preprocessing import OrdinalEncoder\n",
    "\n",
    "# Transforming text values of 'Algorithm' and 'ProofType' into numeric variables\n",
    "oc = OrdinalEncoder()\n",
    "crypto_currency['Algorithm'] = oc.fit_transform(crypto_currency[['Algorithm']])\n",
    "crypto_currency['ProofType'] = oc.fit_transform(crypto_currency[['ProofType']])\n",
    "crypto_currency.head()"
   ]
  },
  {
   "cell_type": "code",
   "execution_count": 142,
   "metadata": {
    "tags": []
   },
   "outputs": [],
   "source": [
    "# Removing columns less effective columns from the dataframe.\n",
    "crypto_currency.drop(\"CoinName\", axis = 1, inplace = True)\n",
    "crypto_currency['IsTrading'] = 1"
   ]
  },
  {
   "cell_type": "code",
   "execution_count": 143,
   "metadata": {},
   "outputs": [
    {
     "data": {
      "text/html": [
       "<div>\n",
       "<style scoped>\n",
       "    .dataframe tbody tr th:only-of-type {\n",
       "        vertical-align: middle;\n",
       "    }\n",
       "\n",
       "    .dataframe tbody tr th {\n",
       "        vertical-align: top;\n",
       "    }\n",
       "\n",
       "    .dataframe thead th {\n",
       "        text-align: right;\n",
       "    }\n",
       "</style>\n",
       "<table border=\"1\" class=\"dataframe\">\n",
       "  <thead>\n",
       "    <tr style=\"text-align: right;\">\n",
       "      <th></th>\n",
       "      <th>Algorithm</th>\n",
       "      <th>IsTrading</th>\n",
       "      <th>ProofType</th>\n",
       "      <th>TotalCoinsMined</th>\n",
       "      <th>TotalCoinSupply</th>\n",
       "    </tr>\n",
       "  </thead>\n",
       "  <tbody>\n",
       "    <tr>\n",
       "      <th>0</th>\n",
       "      <td>52.0</td>\n",
       "      <td>1</td>\n",
       "      <td>15.0</td>\n",
       "      <td>4.199995e+01</td>\n",
       "      <td>42</td>\n",
       "    </tr>\n",
       "    <tr>\n",
       "      <th>2</th>\n",
       "      <td>52.0</td>\n",
       "      <td>1</td>\n",
       "      <td>15.0</td>\n",
       "      <td>1.055185e+09</td>\n",
       "      <td>532000000</td>\n",
       "    </tr>\n",
       "    <tr>\n",
       "      <th>5</th>\n",
       "      <td>66.0</td>\n",
       "      <td>1</td>\n",
       "      <td>15.0</td>\n",
       "      <td>2.927942e+10</td>\n",
       "      <td>314159265359</td>\n",
       "    </tr>\n",
       "    <tr>\n",
       "      <th>7</th>\n",
       "      <td>47.0</td>\n",
       "      <td>1</td>\n",
       "      <td>12.0</td>\n",
       "      <td>1.792718e+07</td>\n",
       "      <td>21000000</td>\n",
       "    </tr>\n",
       "    <tr>\n",
       "      <th>8</th>\n",
       "      <td>20.0</td>\n",
       "      <td>1</td>\n",
       "      <td>12.0</td>\n",
       "      <td>1.076842e+08</td>\n",
       "      <td>0</td>\n",
       "    </tr>\n",
       "  </tbody>\n",
       "</table>\n",
       "</div>"
      ],
      "text/plain": [
       "   Algorithm  IsTrading  ProofType  TotalCoinsMined TotalCoinSupply\n",
       "0       52.0          1       15.0     4.199995e+01              42\n",
       "2       52.0          1       15.0     1.055185e+09       532000000\n",
       "5       66.0          1       15.0     2.927942e+10    314159265359\n",
       "7       47.0          1       12.0     1.792718e+07        21000000\n",
       "8       20.0          1       12.0     1.076842e+08               0"
      ]
     },
     "execution_count": 143,
     "metadata": {},
     "output_type": "execute_result"
    }
   ],
   "source": [
    "crypto_currency.head()"
   ]
  },
  {
   "cell_type": "markdown",
   "metadata": {},
   "source": [
    "# Applying PCA"
   ]
  },
  {
   "cell_type": "code",
   "execution_count": 144,
   "metadata": {},
   "outputs": [
    {
     "data": {
      "text/plain": [
       "array([[ 3.76459118e-01,  0.00000000e+00,  8.91356555e-01,\n",
       "        -1.17108170e-01, -1.52870298e-01],\n",
       "       [ 3.76459118e-01,  0.00000000e+00,  8.91356555e-01,\n",
       "        -9.39695522e-02, -1.45008997e-01],\n",
       "       [ 1.21543803e+00,  0.00000000e+00,  8.91356555e-01,\n",
       "         5.24945609e-01,  4.48942416e+00],\n",
       "       ...,\n",
       "       [-2.14047761e+00,  0.00000000e+00,  1.67233875e-03,\n",
       "        -9.56133629e-02, -1.32179374e-01],\n",
       "       [-1.66106109e+00,  0.00000000e+00,  1.67233875e-03,\n",
       "        -1.16948169e-01, -1.52559984e-01],\n",
       "       [ 3.76459118e-01,  0.00000000e+00, -1.48113469e+00,\n",
       "        -1.17105357e-01, -1.52855521e-01]])"
      ]
     },
     "execution_count": 144,
     "metadata": {},
     "output_type": "execute_result"
    }
   ],
   "source": [
    "# Standardise data with StandardScaler\n",
    "crypto_scaled = StandardScaler().fit_transform(crypto_currency)\n",
    "crypto_scaled"
   ]
  },
  {
   "cell_type": "code",
   "execution_count": 145,
   "metadata": {},
   "outputs": [],
   "source": [
    "# Applying PCA to reduce dimensions.\n",
    "pca = PCA().fit(crypto_scaled)\n",
    "# len(pca.explained_variance_ratio_)"
   ]
  },
  {
   "cell_type": "code",
   "execution_count": 146,
   "metadata": {},
   "outputs": [
    {
     "data": {
      "text/plain": [
       "Text(0, 0.5, 'Cumulative explained varaince')"
      ]
     },
     "execution_count": 146,
     "metadata": {},
     "output_type": "execute_result"
    },
    {
     "data": {
      "image/png": "[encoded data removed]",
      "text/plain": [
       "<Figure size 720x576 with 1 Axes>"
      ]
     },
     "metadata": {},
     "output_type": "display_data"
    }
   ],
   "source": [
    "# plotting explained variance ratio to know the nature of its distribution\n",
    "import seaborn as sns\n",
    "\n",
    "plt.figure(figsize = (10,8))\n",
    "plt.plot(range(1,6), pca.explained_variance_ratio_.cumsum(), marker='*', linestyle = '--')\n",
    "plt.title(\"Explained variance by components\")\n",
    "plt.xlabel(\"Number of components\")\n",
    "plt.ylabel(\"Cumulative explained varaince\")"
   ]
  },
  {
   "cell_type": "markdown",
   "metadata": {},
   "source": [
    "* The graph shows the amount of variance captured (on the y-axis) depending on the number of components in the x-axis. Here the rule of thumb is to preserve around 90 % of the variance. So, we can decide to keep 3 components."
   ]
  },
  {
   "cell_type": "code",
   "execution_count": 147,
   "metadata": {},
   "outputs": [],
   "source": [
    "# Applying PCA to reduce dimensions from 4 to 3, Initialize PCA model\n",
    "pca = PCA(n_components = 3, random_state = 0, svd_solver = 'full')\n",
    "\n",
    "# Get 3 principal components for the crypto data\n",
    "\n",
    "crypto_pca = pca.fit_transform(crypto_scaled)"
   ]
  },
  {
   "cell_type": "code",
   "execution_count": 148,
   "metadata": {},
   "outputs": [
    {
     "data": {
      "text/html": [
       "<div>\n",
       "<style scoped>\n",
       "    .dataframe tbody tr th:only-of-type {\n",
       "        vertical-align: middle;\n",
       "    }\n",
       "\n",
       "    .dataframe tbody tr th {\n",
       "        vertical-align: top;\n",
       "    }\n",
       "\n",
       "    .dataframe thead th {\n",
       "        text-align: right;\n",
       "    }\n",
       "</style>\n",
       "<table border=\"1\" class=\"dataframe\">\n",
       "  <thead>\n",
       "    <tr style=\"text-align: right;\">\n",
       "      <th></th>\n",
       "      <th>principal_component1</th>\n",
       "      <th>principal_component2</th>\n",
       "      <th>principal_component3</th>\n",
       "    </tr>\n",
       "  </thead>\n",
       "  <tbody>\n",
       "    <tr>\n",
       "      <th>0</th>\n",
       "      <td>-0.417875</td>\n",
       "      <td>0.810296</td>\n",
       "      <td>0.372138</td>\n",
       "    </tr>\n",
       "    <tr>\n",
       "      <th>1</th>\n",
       "      <td>-0.396564</td>\n",
       "      <td>0.815135</td>\n",
       "      <td>0.373256</td>\n",
       "    </tr>\n",
       "    <tr>\n",
       "      <th>2</th>\n",
       "      <td>3.124076</td>\n",
       "      <td>2.209780</td>\n",
       "      <td>0.504335</td>\n",
       "    </tr>\n",
       "    <tr>\n",
       "      <th>3</th>\n",
       "      <td>-0.192083</td>\n",
       "      <td>0.016266</td>\n",
       "      <td>-0.072910</td>\n",
       "    </tr>\n",
       "    <tr>\n",
       "      <th>4</th>\n",
       "      <td>-0.044116</td>\n",
       "      <td>-1.167492</td>\n",
       "      <td>1.012525</td>\n",
       "    </tr>\n",
       "  </tbody>\n",
       "</table>\n",
       "</div>"
      ],
      "text/plain": [
       "   principal_component1  principal_component2  principal_component3\n",
       "0             -0.417875              0.810296              0.372138\n",
       "1             -0.396564              0.815135              0.373256\n",
       "2              3.124076              2.209780              0.504335\n",
       "3             -0.192083              0.016266             -0.072910\n",
       "4             -0.044116             -1.167492              1.012525"
      ]
     },
     "execution_count": 148,
     "metadata": {},
     "output_type": "execute_result"
    }
   ],
   "source": [
    "# Transform PCA to a dataframe\n",
    "crypto_pca_df = pd.DataFrame(data = crypto_pca, columns = ['principal_component1', \n",
    "                                                         'principal_component2',\n",
    "                                                        'principal_component3'])\n",
    "crypto_pca_df.head()"
   ]
  },
  {
   "cell_type": "code",
   "execution_count": 149,
   "metadata": {},
   "outputs": [
    {
     "data": {
      "text/plain": [
       "array([0.4350467 , 0.28670411, 0.20538956])"
      ]
     },
     "execution_count": 149,
     "metadata": {},
     "output_type": "execute_result"
    }
   ],
   "source": [
    "pca.explained_variance_ratio_"
   ]
  },
  {
   "cell_type": "markdown",
   "metadata": {},
   "source": [
    "# Analysis\n",
    "According to the explained variance, the first 3 principal component contains approximately 93% of the variance."
   ]
  },
  {
   "cell_type": "code",
   "execution_count": 150,
   "metadata": {},
   "outputs": [
    {
     "data": {
      "text/plain": [
       "(532, 2)"
      ]
     },
     "execution_count": 150,
     "metadata": {},
     "output_type": "execute_result"
    }
   ],
   "source": [
    "# Create a new dataframe for t_SNE\n",
    "tsne = TSNE(learning_rate = 35)\n",
    "tsne_features = tsne.fit_transform(crypto_pca_df)\n",
    "tsne_features.shape"
   ]
  },
  {
   "cell_type": "code",
   "execution_count": 151,
   "metadata": {},
   "outputs": [
    {
     "data": {
      "image/png": "[encoded data removed]",
      "text/plain": [
       "<Figure size 720x576 with 1 Axes>"
      ]
     },
     "metadata": {},
     "output_type": "display_data"
    }
   ],
   "source": [
    "# First column of transformed features\n",
    "crypto_pca_df['x'] = tsne_features[:,0]\n",
    "# Second column of transformed features\n",
    "crypto_pca_df['y'] = tsne_features[:,1]\n",
    "\n",
    "# Visualize the clusters\n",
    "plt.figure(figsize = (10,8))\n",
    "plt.scatter(crypto_pca_df.x, crypto_pca_df.y)\n",
    "plt.show()"
   ]
  },
  {
   "cell_type": "markdown",
   "metadata": {},
   "source": [
    "* fro"
   ]
  },
  {
   "cell_type": "markdown",
   "metadata": {},
   "source": [
    "# KMeans with PCA data"
   ]
  },
  {
   "cell_type": "code",
   "execution_count": 152,
   "metadata": {},
   "outputs": [],
   "source": [
    "# Finding the best value of k\n",
    "inertia = []\n",
    "k = list(range(1,11))\n",
    "\n",
    "# Calculate the inertia for the range of k values\n",
    "for i in k:\n",
    "    km = KMeans(n_clusters = i, random_state = 20)\n",
    "    km.fit(crypto_pca_df)\n",
    "    inertia.append(km.inertia_)"
   ]
  },
  {
   "cell_type": "code",
   "execution_count": 153,
   "metadata": {},
   "outputs": [
    {
     "data": {
      "text/plain": [
       "Text(0, 0.5, 'Inertia')"
      ]
     },
     "execution_count": 153,
     "metadata": {},
     "output_type": "execute_result"
    },
    {
     "data": {
      "image/png": "[encoded data removed]",
      "text/plain": [
       "<Figure size 720x576 with 1 Axes>"
      ]
     },
     "metadata": {},
     "output_type": "display_data"
    }
   ],
   "source": [
    "# Create elbow curve\n",
    "elbow_data = {\"k\":k, \"inertia\":inertia}\n",
    "elbow_df = pd.DataFrame(elbow_data)\n",
    "\n",
    "plt.figure(figsize = (10,8))\n",
    "plt.plot(elbow_df.k, elbow_df.inertia, marker='o', linestyle = '--')\n",
    "plt.xticks(list(range(11)))\n",
    "plt.title(\"KMeans with PCA clustering \")\n",
    "plt.xlabel(\"Number of clusters\")\n",
    "plt.ylabel(\"Inertia\")"
   ]
  },
  {
   "cell_type": "markdown",
   "metadata": {},
   "source": [
    "* The Elbow of the plot appears at number 3. So the value of k is 3"
   ]
  },
  {
   "cell_type": "code",
   "execution_count": 154,
   "metadata": {},
   "outputs": [
    {
     "data": {
      "text/html": [
       "<div>\n",
       "<style scoped>\n",
       "    .dataframe tbody tr th:only-of-type {\n",
       "        vertical-align: middle;\n",
       "    }\n",
       "\n",
       "    .dataframe tbody tr th {\n",
       "        vertical-align: top;\n",
       "    }\n",
       "\n",
       "    .dataframe thead th {\n",
       "        text-align: right;\n",
       "    }\n",
       "</style>\n",
       "<table border=\"1\" class=\"dataframe\">\n",
       "  <thead>\n",
       "    <tr style=\"text-align: right;\">\n",
       "      <th></th>\n",
       "      <th>principal_component1</th>\n",
       "      <th>principal_component2</th>\n",
       "      <th>principal_component3</th>\n",
       "      <th>x</th>\n",
       "      <th>y</th>\n",
       "      <th>class</th>\n",
       "    </tr>\n",
       "  </thead>\n",
       "  <tbody>\n",
       "    <tr>\n",
       "      <th>0</th>\n",
       "      <td>-0.417875</td>\n",
       "      <td>0.810296</td>\n",
       "      <td>0.372138</td>\n",
       "      <td>4.155063</td>\n",
       "      <td>25.790569</td>\n",
       "      <td>1</td>\n",
       "    </tr>\n",
       "    <tr>\n",
       "      <th>1</th>\n",
       "      <td>-0.396564</td>\n",
       "      <td>0.815135</td>\n",
       "      <td>0.373256</td>\n",
       "      <td>4.132831</td>\n",
       "      <td>20.777409</td>\n",
       "      <td>1</td>\n",
       "    </tr>\n",
       "    <tr>\n",
       "      <th>2</th>\n",
       "      <td>3.124076</td>\n",
       "      <td>2.209780</td>\n",
       "      <td>0.504335</td>\n",
       "      <td>3.006788</td>\n",
       "      <td>-3.778042</td>\n",
       "      <td>3</td>\n",
       "    </tr>\n",
       "    <tr>\n",
       "      <th>3</th>\n",
       "      <td>-0.192083</td>\n",
       "      <td>0.016266</td>\n",
       "      <td>-0.072910</td>\n",
       "      <td>23.665775</td>\n",
       "      <td>7.540060</td>\n",
       "      <td>2</td>\n",
       "    </tr>\n",
       "    <tr>\n",
       "      <th>4</th>\n",
       "      <td>-0.044116</td>\n",
       "      <td>-1.167492</td>\n",
       "      <td>1.012525</td>\n",
       "      <td>-8.943831</td>\n",
       "      <td>-3.387199</td>\n",
       "      <td>3</td>\n",
       "    </tr>\n",
       "  </tbody>\n",
       "</table>\n",
       "</div>"
      ],
      "text/plain": [
       "   principal_component1  principal_component2  principal_component3  \\\n",
       "0             -0.417875              0.810296              0.372138   \n",
       "1             -0.396564              0.815135              0.373256   \n",
       "2              3.124076              2.209780              0.504335   \n",
       "3             -0.192083              0.016266             -0.072910   \n",
       "4             -0.044116             -1.167492              1.012525   \n",
       "\n",
       "           x          y  class  \n",
       "0   4.155063  25.790569      1  \n",
       "1   4.132831  20.777409      1  \n",
       "2   3.006788  -3.778042      3  \n",
       "3  23.665775   7.540060      2  \n",
       "4  -8.943831  -3.387199      3  "
      ]
     },
     "execution_count": 154,
     "metadata": {},
     "output_type": "execute_result"
    }
   ],
   "source": [
    "# Predicting clusters with k = 4\n",
    "# Initialize the k-means model\n",
    "model = KMeans(n_clusters = 4, random_state = 20)\n",
    "\n",
    "# Fit the model\n",
    "model.fit(crypto_pca_df)\n",
    "\n",
    "# predict clusters\n",
    "predictions = model.predict(crypto_pca_df)\n",
    "\n",
    "# Add the predicted class column to the dataframe\n",
    "\n",
    "crypto_pca_df['class'] = model.labels_\n",
    "crypto_pca_df.head()"
   ]
  },
  {
   "cell_type": "code",
   "execution_count": 155,
   "metadata": {},
   "outputs": [
    {
     "data": {
      "image/png": "[encoded data removed]",
      "text/plain": [
       "<Figure size 720x576 with 1 Axes>"
      ]
     },
     "metadata": {},
     "output_type": "display_data"
    }
   ],
   "source": [
    "# Visualize the clusters\n",
    "\n",
    "crypto_pca_df['Clusters'] = crypto_pca_df['class'].map({0:'First', 1:'Second',2:'Third', 3:'Forth'})\n",
    "\n",
    "plt.figure(figsize = (10,8))\n",
    "sns.scatterplot(x = crypto_pca_df['principal_component1'], y=crypto_pca_df['principal_component2'], \n",
    "           hue = crypto_pca_df['Clusters'], palette = ['g', 'c', 'r','m'])\n",
    "plt.title(\"Crypto Currency Clusters\")\n",
    "plt.xlabel(\"Principal Component 1\")\n",
    "plt.ylabel(\"Principal Component 2\")\n",
    "plt.show()"
   ]
  },
  {
   "cell_type": "code",
   "execution_count": 174,
   "metadata": {},
   "outputs": [
    {
     "data": {
      "application/vnd.plotly.v1+json": {
       "config": {
        "plotlyServerURL": "https://plot.ly"
       },
       "data": [
        {
         "hovertemplate": "Clusters=Second<br>principal_component1=%{x}<br>principal_component2=%{y}<br>principal_component3=%{z}<extra></extra>",
         "legendgroup": "Second",
         "marker": {
          "color": "#636efa",
          "symbol": "circle"
         },
         "mode": "markers",
         "name": "Second",
         "scene": "scene",
         "showlegend": true,
         "type": "scatter3d",
         "x": [
          -0.41787462586730484,
          -0.39656383123362066,
          -0.4827708555930051,
          -0.3904431730842157,
          -0.5009573101629036,
          -0.41743127807039876,
          -0.4082801670159253,
          -0.416016464033773,
          -0.4178689292724738,
          -0.4178488275196805,
          -0.26008086092996896,
          -0.41531362224662705,
          -0.48264070531902176,
          -0.410497974370797,
          -0.3418604167632685,
          -0.493007594702185,
          -0.493776613407948,
          -0.3307812142369003,
          -0.4102663795896596,
          -0.4157671655291168,
          0.0247700925235127,
          -0.4831296022431704,
          -0.4830069155071599,
          -0.3851060596907506,
          -0.41610516349118193,
          -0.4829690753352586,
          -0.49350577170402066,
          -0.4055306109413998,
          -0.38940688813635393,
          -0.2593718459312158,
          -0.49385361258156596,
          -0.41785246354564454,
          -0.4937972120617276,
          -0.4174972143555625,
          -0.4831067742446199,
          -0.6088064991868193,
          -0.37419076612893293,
          -0.49315206335716666,
          -0.37992540314628914,
          -0.5044111371061589,
          -0.3904072242058367,
          -0.04868653336607928,
          -0.3905014483141523,
          -0.17338834680848111,
          -0.41731415457218984,
          -0.4790904525926525,
          -0.3902145727215975,
          -0.48033973393619184,
          -0.38841535982613806,
          -0.3851259755418434,
          -0.3232601439417297,
          -0.48135617662220487,
          -0.3853785647032851,
          -0.4173580962480506,
          -0.41535374971584926,
          -0.8235720988136186,
          -0.4823891531386706,
          -0.41631300588404807,
          -0.3904637529073733,
          -0.48308937187381157,
          -0.4176233421829388,
          -0.41784533594844264,
          -0.5085708944096963,
          0.09623944654194085,
          -0.41736845354007635,
          -0.4639689699462821,
          -0.4969225037139076,
          -0.30933931883115,
          -0.4825493823951443,
          0.9066352241173495,
          -0.483032492487961,
          -0.4172269670028214,
          -0.4174130424310839,
          -0.4824314171916079,
          -0.39029537158974886,
          -0.4172353438371635,
          -0.9434937444408587,
          -0.4174242506574549,
          -0.411132003267442,
          -0.48306678182731877,
          -0.41629236374021966,
          -0.417690764233759,
          -0.41779103995683275,
          -0.37855580856497256,
          -0.4124580333929696,
          -0.3904346014401545,
          -0.4829496177419827,
          -0.41749393771556315,
          -0.4176482393507241,
          -0.4811414977927323,
          -0.3926658548238359,
          -0.4819199351386405,
          -0.4803471467742163,
          -0.48179372648827906,
          -0.47623783319198265,
          -0.41757911653061514,
          -0.4175681573002731,
          -0.40775761117765347,
          -0.48246597552932496,
          -0.41649063047249074,
          1.018893635647561,
          -0.32526595942736325,
          -0.3232665214790275,
          -0.4330746899721237,
          -0.49338104657877574,
          0.22417085796730996,
          -0.49348348164161826,
          -0.43246275374668197,
          -0.4828437295493751,
          0.9060555562696911,
          -0.4170917907495777,
          -0.41776875008324355,
          -0.4827470173091569,
          -0.3240664564664479,
          -0.41769834702396,
          0.5665664289713845,
          -0.3882841924531391,
          -0.3048345641521586,
          -0.34101181045234646,
          -0.417629869341138,
          -0.38276150900837896,
          -0.41747806227744766,
          -0.48109709473434736,
          0.4066614031251391,
          -0.4891112397064154,
          -0.4140759637061708,
          0.16175892336513384,
          -0.41623107987972113,
          -0.48194205753731656,
          -0.39985207411115425,
          -0.41779637305774897,
          -0.35138958359620587,
          -0.41198321516033237,
          -0.48284416078738146,
          -0.5151442329907543,
          -0.3247163787206336,
          -0.41783152998367007,
          -0.4178062298981523,
          -0.4174221542143977,
          -0.38111526117884204,
          -0.34489263050600594,
          -0.16074515148325555,
          -0.40004805600978144,
          -0.41669929673479306,
          -0.508927199603511,
          -0.3851056712795788,
          -0.302946311080613,
          -0.4076835671631708,
          -0.48215953417246143,
          -0.2835940042219006,
          -0.21989966619492696,
          -0.9101087073406715,
          -0.069105403392883,
          -0.384168024659383,
          -0.41743919739773705,
          -0.3847788925463061,
          0.803760265179014,
          -0.4167151934572978,
          -0.507698570757863,
          -0.33747911408111764,
          -0.47865081952444466,
          -0.4824673456411681,
          0.16726125013366394,
          -0.4794669294804141,
          -0.41579932519674767,
          -0.41701543517734635,
          -0.4177292024901642,
          -0.47148626017344697,
          -0.29691685235829607,
          -0.1178868455641963,
          -0.46555747297172323,
          -0.41681702657423236,
          -0.4077259423000462,
          -0.4779863995779876,
          -0.4146924939335591,
          -0.8789466012946708,
          -0.38849599156398656,
          -0.4110366779682829,
          -0.3302427711368727,
          -0.4940021252086189,
          -0.41512181196732767
         ],
         "y": [
          0.8102956393790174,
          0.8151352783213028,
          1.3366086693013617,
          0.5910839678621314,
          1.5127909817174057,
          0.8103954030119686,
          0.8125131647424395,
          0.8107251082121686,
          0.8102968753457681,
          0.8103014407069677,
          -0.4614146405051716,
          0.8108681923797403,
          1.3366387503655681,
          0.766874792014282,
          0.6019259281418473,
          1.4244655395226111,
          1.4242877995889496,
          0.10867020232536968,
          0.8119863380638815,
          0.8107669163427671,
          0.9126021792565784,
          1.336529303034518,
          1.3365560458631376,
          0.8176111538019065,
          0.8106884736740896,
          1.336565517718648,
          1.4243503980486851,
          0.8129873194251723,
          0.5913160583174526,
          -0.46125006230484156,
          1.424268067047955,
          0.8103007616663724,
          1.4242814253300946,
          0.8103796420956092,
          1.336534579331427,
          1.341708824156985,
          0.4595141083938402,
          1.4244240822035554,
          0.5933571053166072,
          1.5120449392836466,
          0.5910922765693324,
          1.4326567024341705,
          0.5910723543521387,
          0.0999386895944761,
          0.8104184024631595,
          1.3374009003389113,
          0.5911338991775986,
          1.337162012903856,
          0.591520262870847,
          0.5922317553848953,
          0.0652849554668513,
          1.3369167613018138,
          0.817483635628875,
          0.8104078699598503,
          0.8108621446570962,
          1.0447622935797605,
          1.3366923730523916,
          0.8106420493518798,
          0.5910793726757172,
          1.3365381174507616,
          0.8103503293837134,
          0.8103024090367736,
          1.2026097024268743,
          0.7905648744518153,
          0.8104126287843457,
          1.3407158091267024,
          1.4686542166704424,
          0.6988409858350465,
          1.3366585667283781,
          1.7478217318023421,
          1.3365511260605039,
          0.8104391119753223,
          0.8103955469443691,
          1.3366809913644846,
          0.591118451252211,
          0.8104380696878273,
          2.6783325611123203,
          0.8103952151707776,
          0.8117490560028049,
          1.3365430159131126,
          0.8106381080175924,
          0.8103360371252716,
          0.810314423268669,
          0.503602979231948,
          0.8114668836395308,
          0.5910861103269742,
          1.3365693930697495,
          0.810380399411097,
          0.8103444244278313,
          1.002543518366468,
          0.8159606943011998,
          1.3367927544487448,
          1.3371546527699858,
          1.3368219245027044,
          1.3380414985668352,
          0.8103605168422952,
          0.8103618578542234,
          0.8124726025902107,
          1.3366762308108737,
          0.8105985756837836,
          1.84960352103594,
          0.06483426715296524,
          0.06527864130851546,
          0.9420953215085817,
          1.4243743850759627,
          0.9506218969969078,
          1.424352500853848,
          0.9422367556548517,
          1.3365938418166197,
          2.6329470018590038,
          0.8104687877555572,
          0.810319432372757,
          1.336613372248759,
          0.11015822791741034,
          0.8103338435570746,
          1.0337917444180662,
          0.5915703792433137,
          0.06936449382112883,
          0.19651587083941557,
          0.8103488207901557,
          0.5477210323358888,
          0.8103849094819207,
          1.336975835075639,
          0.22916290808727477,
          1.4253322060077955,
          0.8111397265529229,
          0.9361968992266807,
          0.810651304259323,
          1.336795708305396,
          0.8143159086535371,
          0.810313080262983,
          0.6187689747090855,
          0.8116198649408145,
          1.3365912425774518,
          1.599778101871528,
          0.06495483581261882,
          0.8103051159344936,
          0.8103106407563244,
          0.8103953770361019,
          0.5481015224043617,
          0.826337282728364,
          0.8680792017742579,
          0.6790707424225431,
          0.8105537356644317,
          1.556101733230688,
          0.547210672938618,
          -0.11045253404627649,
          0.8124897160597839,
          1.3367454438808586,
          -0.24135923978802756,
          0.8531486392709713,
          2.261252869961584,
          2.519138001646247,
          0.5474195058956792,
          0.8103928899633984,
          0.5472839596988136,
          1.080578677128176,
          0.810550061524411,
          1.601427996445671,
          0.6927414714296445,
          1.337496702634029,
          1.3366775275249105,
          0.9398887009749763,
          1.3373758407494927,
          0.8107430269228802,
          0.810485466791621,
          0.8103292504556047,
          1.3391397088792434,
          0.8365580300177884,
          0.6540516162403303,
          1.3404293344625713,
          0.810537657616805,
          0.8125767249995988,
          1.3376844708118623,
          0.8110052975250593,
          2.4863725180163807,
          0.5915206203491619,
          0.8118276629490356,
          0.10878555115144635,
          1.4242356586711253,
          0.8108915506855717
         ],
         "z": [
          0.3721377359145976,
          0.3732558332587557,
          -0.11025277404054512,
          0.5732026086646982,
          -0.2703392113887371,
          0.37217386389936596,
          0.37210052170926894,
          0.3721305285514274,
          0.37213884225426125,
          0.3721398928153083,
          1.538040959329758,
          0.37239864960638835,
          -0.11025327885553857,
          0.41255915314432656,
          0.5784247940097568,
          -0.19071137048433162,
          -0.1907083876848259,
          1.0153976066235566,
          0.3730561907563385,
          0.3723507534535031,
          0.37042084592191,
          -0.11030103562488837,
          -0.11027894315026228,
          0.3756219317451415,
          0.3723565785686801,
          -0.11028924669026985,
          -0.19070943820088562,
          0.3743469167613403,
          0.5733024139671415,
          1.5380283233453176,
          -0.19068100431011722,
          0.3721376498586147,
          -0.19068573719085935,
          0.3721814131460884,
          -0.11030112642510358,
          1.0586197481366528,
          0.6937743054063703,
          -0.19059795714355998,
          0.5753692177633281,
          -0.2710564297648802,
          0.5732024692294727,
          -0.05206117883848211,
          0.5731768785098781,
          1.0550029396605072,
          0.3722303584256612,
          -0.10944999361149838,
          0.5732423490665165,
          -0.11014257948485648,
          0.5736477916920142,
          0.5743172858734363,
          1.0557873840764793,
          -0.10999418517396249,
          0.3765258126242907,
          0.3722357953346847,
          0.37235366405357034,
          3.6778129277959297,
          -0.1101910568793443,
          0.3723348141309771,
          0.5732004314280572,
          -0.11029442274449275,
          0.3721841594189624,
          0.3721376222127417,
          0.8097137850806352,
          0.5359578023860637,
          0.3721357725248196,
          -0.10698976672366864,
          -0.230694802943573,
          0.5093312193725579,
          -0.1102355765923213,
          -0.1942216763797964,
          -0.11029271735351176,
          0.3722222108236464,
          0.3722307419828549,
          -0.11016832235160662,
          0.5731975212662052,
          0.3722097392037706,
          1.3974530739777187,
          0.37219918661939344,
          0.37358016129007987,
          -0.11028999624514348,
          0.3724566152941812,
          0.37216636445122203,
          0.372144895548397,
          0.6537334279422429,
          0.3732452563252222,
          0.5732003183580092,
          -0.11028062345221692,
          0.37218140043695647,
          0.37218636257619714,
          0.5877450959311878,
          0.37429701812051297,
          -0.11008002385030954,
          -0.11006355364035252,
          -0.11008051337689335,
          -0.10919923915667758,
          0.37218446665031957,
          0.372201099027201,
          0.37435555464641923,
          -0.11021332950546323,
          0.3723693589816896,
          -0.07388886121090564,
          1.0556145992680326,
          1.0558551206064584,
          0.25174942873205874,
          -0.19064221017993768,
          0.48250041739825944,
          -0.1906668703183666,
          0.2517470552097282,
          -0.11028068821985608,
          1.1958190893024874,
          0.3722436070789174,
          0.3721468048095558,
          -0.11024158120340789,
          1.0162658768307458,
          0.37217256315863284,
          0.4247458702604434,
          0.5733702852706122,
          1.0582212529754667,
          0.9351155561397861,
          0.3721841847359074,
          0.6137988935970538,
          0.37216957568811737,
          -0.10998390477822685,
          1.1204648890482791,
          -0.19025250075656536,
          0.37259698446961237,
          0.4827424951088351,
          0.3724699199506154,
          -0.11019279103292046,
          0.3740991853935201,
          0.37214646053907013,
          0.15683388173232393,
          0.37263852262286434,
          -0.11024571853171665,
          -0.35138737824153893,
          1.0557027499957519,
          0.3721443398427638,
          0.37214875583066126,
          0.3722036926074596,
          0.613792508281358,
          0.3834152100117972,
          0.39416241524925966,
          0.4929672674127671,
          0.37232277008196707,
          -0.311136280131366,
          0.6133682000786527,
          1.2165212458098915,
          0.3743552674512598,
          -0.11019194750441463,
          1.3378267417763687,
          0.4119969246533309,
          2.177662192824008,
          0.6651960871246431,
          0.613474818333741,
          0.3721834451749912,
          0.6133982718719277,
          0.5362274414705287,
          0.37232283174072217,
          -0.3504231514932831,
          0.503784173633616,
          -0.10937044466803866,
          -0.11023589478898856,
          0.4488652565014054,
          -0.11031524432247346,
          0.37258109828894215,
          0.3722568625734022,
          0.37213717176489264,
          -0.10921766912404347,
          0.3953677035369656,
          0.5725246281225328,
          -0.10811213527274405,
          0.3721674895969626,
          0.37300119594466963,
          -0.10985151843257991,
          0.372486522821788,
          1.1819536108360673,
          0.5733823920765505,
          0.3727883313458424,
          1.0155228121443367,
          -0.1907072421430806,
          0.372691323401469
         ]
        },
        {
         "hovertemplate": "Clusters=Forth<br>principal_component1=%{x}<br>principal_component2=%{y}<br>principal_component3=%{z}<extra></extra>",
         "legendgroup": "Forth",
         "marker": {
          "color": "#EF553B",
          "symbol": "diamond"
         },
         "mode": "markers",
         "name": "Forth",
         "scene": "scene",
         "showlegend": true,
         "type": "scatter3d",
         "x": [
          3.1240759697955074,
          -0.04411582063938185,
          -0.001978716880188726,
          -0.04190713694535538,
          -0.03454216598983619,
          0.2626521664598675,
          -0.07616221500578854,
          3.6622798624361392,
          -0.06045818406817548,
          0.286014454593017,
          -0.1262009095035451,
          2.0640955064590245,
          -0.07029897613701123,
          -0.1039369810676441,
          4.652786103448571,
          0.2140167324084572,
          -0.12088944906267408,
          -0.08713532343260941,
          -0.0992483485195395,
          -0.04541239160841631,
          0.5301503670059927,
          -0.15104789339573485,
          0.0640180252497124,
          -0.018162812053332544,
          0.008856599628584469,
          -0.0946419494133664,
          -0.1106661624993041,
          -0.045081168209364815,
          -0.03456888430618594,
          0.008864459760884676,
          0.00903141384963702,
          -0.09999152384176088,
          -0.0002025618794845765,
          -0.03458957070949567,
          -0.09962862014624645,
          -0.02393382124458061,
          -0.1617355188638376,
          -0.12666987641528624,
          -0.00013455232051326087,
          0.7092250484390454,
          0.05243945518995538,
          0.0358410892583676,
          0.020094446349202644,
          0.056178021954483945,
          0.009397136228464591,
          4.264156912675376,
          -0.004860099750185994,
          1.9395463479137582,
          0.009671099113085887,
          0.25612368161392773,
          -0.1324125897972888,
          -0.034393901301297956,
          -0.01645883557772796,
          -0.1321972606396829,
          -0.04271851487424733,
          -0.1323389037930288,
          -0.10792656987429011,
          1.1590841316637643,
          0.008831706865430236,
          0.06321798766698591,
          0.01452835459413659,
          1.4108879168661697,
          -0.132417659257408,
          -0.12316697452082083,
          0.025363592392212385,
          10.920478120122992,
          0.014056459585436566,
          -0.015920709360254078,
          -0.08471757975583315,
          -0.17280295439390683,
          0.023708528149318717,
          0.01995554335598177,
          -0.0777390599664995,
          -0.03308086299425942,
          -0.1075511184388383,
          0.009065249369168148,
          -0.12678010037346021,
          -0.09977829865601265,
          -0.11078514168725567,
          0.014704349427656261,
          0.005005101194025509,
          2.492297747360233,
          -0.08005737770361698,
          0.027203766943102278,
          -0.06715060698136359,
          0.015688373659787213,
          -0.006710967413725445,
          3.3712755651556523,
          0.10591324309364128,
          -0.10994170894375677,
          0.11851311057640937,
          0.04235143130445408,
          0.041759217452990806,
          -0.05096126410878971,
          -0.03167031932844438,
          -0.0341739433968262,
          -0.034560494843540554,
          0.11238382725114571,
          -0.05988728251917942,
          -0.12179398341289491,
          -0.017564051335572425,
          -0.045124466668836946,
          25.42513161769829,
          0.037593575580741966,
          -0.03454347236291776
         ],
         "y": [
          2.209780370521108,
          -1.1674924836159692,
          -1.518630693188404,
          -1.1670158812254119,
          -1.2555024483131938,
          -0.4684435862410758,
          -0.5436868481653917,
          1.0707053858064957,
          -1.035954234734085,
          -0.46232681435394674,
          -0.4647643126759281,
          0.74866064590305,
          -0.9480281156748872,
          -0.6851261248584901,
          -0.5627761751166145,
          -1.560541284235273,
          -0.5537017819618676,
          -0.5913068474468423,
          -0.7291491703718964,
          -1.1677948820470558,
          -1.6662999035752117,
          -1.3384099441929318,
          -2.044706139538163,
          -1.3870471521932506,
          -1.6063472807720363,
          -0.5478289178819646,
          -0.6415616646083367,
          -1.1677198281367633,
          -1.255508623600921,
          -1.6063472388141993,
          -1.6063092967978798,
          -0.7293119363240874,
          -1.5182500258100367,
          -1.2555127594061397,
          -0.7292298346988124,
          -1.3432668536569257,
          -1.2506634000837062,
          -0.5099359249886379,
          -1.518221400001793,
          -1.2378616331034138,
          -1.9571497266648443,
          -1.7806023478750856,
          -1.693972446688439,
          -1.5957311501928106,
          -1.606229447790086,
          1.23950082768023,
          -0.7983489970839618,
          0.7344913839670236,
          -1.6061717568558864,
          -1.1917068349600495,
          -0.4661501376998911,
          -1.2554681805434926,
          -1.3866736976559426,
          -0.46610327370005716,
          -1.167214705135258,
          -0.46613388139901724,
          -0.5508122115412487,
          -1.354212350202124,
          -1.6063534374731296,
          -1.1442982714388366,
          -1.5149767404258823,
          -1.6125882599318597,
          -0.4661503413528596,
          -0.4640895520032874,
          -1.7378631294004276,
          0.7542715422460722,
          -1.6051980561113526,
          -1.3865402384674328,
          -0.6808479482131303,
          -1.1629992415343926,
          -1.1528652365020728,
          -1.603941755217118,
          -0.9046098287763573,
          -1.2551726093079856,
          -0.6408866469066513,
          -1.6063004117099557,
          -0.5099570037818988,
          -0.7292652811045339,
          -0.6415874051618531,
          -1.6050909055311182,
          -1.5621504013425473,
          -1.0620449937554464,
          -0.8600590760052527,
          -1.6022665049665246,
          -0.9923812141128733,
          -1.5148297175886571,
          -1.474629019032037,
          -0.8138568731053936,
          -1.224262385472467,
          -0.6414043245944685,
          -1.5823048497549335,
          -1.869278993855905,
          -1.8694029801533982,
          -1.1239683823761872,
          -1.254877702518076,
          -1.2554189376234623,
          -0.444175007172791,
          -1.854205119677448,
          -1.035825672855506,
          -0.5539112947813326,
          -1.2068041461839536,
          -1.1677295584068466,
          4.042884368800663,
          -1.599929725084161,
          -1.2555027502494966
         ],
         "z": [
          0.5043352582499494,
          1.0125253083069314,
          1.3341564565868114,
          1.0129907240199734,
          1.0929842196023678,
          0.495593174820749,
          0.4540232012917266,
          0.5776818911335999,
          0.892105318908991,
          0.48546992859403904,
          0.37001289287945616,
          -0.07834055653992152,
          0.8119566609514965,
          0.570479374666287,
          1.8129046674918616,
          1.4363379174165702,
          0.44968256564333275,
          0.49392895644624113,
          0.6106444089653258,
          1.0125684960766401,
          1.5734384222779962,
          2.342142029120769,
          1.81677734655463,
          1.213613972084353,
          1.4145856466059132,
          0.4522892309742143,
          0.5301398600297578,
          1.0125882000769648,
          1.0929843232349326,
          1.4146104437763192,
          1.414618824449167,
          0.6105213721899027,
          1.3345671234581624,
          1.0929753752323481,
          0.610544792252026,
          1.1733493609167,
          2.261770724099427,
          0.40958957065677254,
          1.3343862948865777,
          2.5320595181721295,
          1.736188616637983,
          1.5761237415932,
          1.4950358459253899,
          1.4188936495560394,
          1.4146828606522035,
          0.1600483860768795,
          0.7018637598690778,
          -0.28234708261878,
          1.4147605443358326,
          1.139207668568784,
          0.3693395547058287,
          1.0929836445268382,
          1.213892444702275,
          0.36937934658278454,
          1.013151865303094,
          0.3693501027862258,
          0.4511219458658419,
          1.6019517597456854,
          1.4145913858071362,
          1.034679589526266,
          1.336348319995523,
          1.8938306477211455,
          0.3693260320101134,
          0.37037128293335253,
          1.5352239322531913,
          3.6292998542361343,
          1.415301279352076,
          1.213763269805774,
          0.572698000943644,
          2.1813253723711457,
          1.0269331259821357,
          1.4167770862180868,
          0.7713662101790869,
          1.0930891475629703,
          0.5307565945358461,
          1.4146037966165033,
          0.40952848879029524,
          0.6105572900869896,
          0.530115719563772,
          1.415894631326954,
          1.3746922505866777,
          1.8202295306838063,
          0.7314736385779563,
          1.4167489724705657,
          0.8517647588729668,
          1.3380377857031722,
          1.2941495359713604,
          1.7776567266867163,
          1.109545690057323,
          0.530278342027651,
          1.4323747933649518,
          1.656016360813529,
          1.6558383386210507,
          0.9723749348144978,
          1.0935188376004445,
          1.0930051046671867,
          0.37792731344072344,
          1.671306881879404,
          0.8921505028035741,
          0.449692393835922,
          1.0573864704941593,
          1.0125844913044828,
          -0.7867724942297974,
          1.4176119997856134,
          1.0929842246694086
         ]
        },
        {
         "hovertemplate": "Clusters=Third<br>principal_component1=%{x}<br>principal_component2=%{y}<br>principal_component3=%{z}<extra></extra>",
         "legendgroup": "Third",
         "marker": {
          "color": "#00cc96",
          "symbol": "square"
         },
         "mode": "markers",
         "name": "Third",
         "scene": "scene",
         "showlegend": true,
         "type": "scatter3d",
         "x": [
          -0.19208254817717368,
          -0.21795407555531654,
          -0.21945572326652074,
          -0.28463958016337043,
          -0.21892381466177002,
          -0.1882790239616873,
          -0.21528083412977927,
          -0.21863307532770776,
          -0.18071144674825457,
          -0.2187632210736157,
          -0.21943380440959503,
          -0.21955125583159774,
          -0.28475270131725344,
          0.30320547245835006,
          0.10605310008576033,
          -0.21922708702610824,
          -0.21341956410099747,
          -0.21913722867465527,
          -0.08070213687288315,
          -0.2196242769993752,
          -0.1920438287718776,
          -0.21805584440298742,
          -0.21839573740368506,
          -0.19203480154431293,
          -0.21478510254539443,
          -0.2192611162037114,
          -0.2197247969216716,
          -0.21875445323368117,
          -0.21956638540567308,
          -0.03238716891794478,
          -0.19213072666529452,
          -0.21129435246952413,
          -0.21952614873356302,
          -0.21686212056962612,
          -0.21885106719940425,
          -0.17508233815169544,
          -0.19143289350400466,
          -0.19179462872773811,
          -0.1917223790947245,
          -0.19255997387119284,
          -0.28499189318766827,
          -0.21917303940698704,
          -0.15323178721983566,
          -0.2152658751510397,
          -0.19151878042925172,
          -0.2176627201924911,
          -0.19650451497972626,
          -0.21599662476126802,
          -0.2197258050011303,
          -0.21583842359249708,
          -0.19767889097738628,
          -0.23141045775764799,
          -0.18159358961389377,
          -0.21956792948129086,
          -0.0490475144457152,
          -0.21973950325263233,
          -0.19216505916530674,
          0.710317093200999,
          -0.2841899869314108,
          -0.19179937748350082,
          -0.2845582910059447,
          -0.2171379919505525,
          -0.21608602653444992,
          -0.28460878009084883,
          -0.19203618874977732,
          -0.21446127739088694,
          -0.21785144773611878,
          0.35432309829930525,
          -0.2834797929926456,
          -0.2180435676299346,
          -0.2899447477978679,
          -0.2194537155749267,
          -0.28455121890852625,
          -0.2197395796352118,
          -0.284736580487983,
          -0.1923728314536146,
          -0.2159689444602647,
          -0.1923204822919907,
          -0.21928394334614318,
          -0.11569649544554927,
          -0.2675135615334749,
          -0.2817785983715102,
          -0.21971418037791438,
          0.7340445434663034,
          -0.2196741134924439,
          -0.27444185606874494,
          -0.2172366067478901,
          -0.17834944924771542,
          -0.21908987222722304,
          -0.14739479688557383,
          -0.21882077902560634,
          -0.2834686019849708,
          -0.2192864427161422,
          -0.21891887975910107,
          -0.284010333136261,
          -0.28477945006326505,
          -0.2627773604004328,
          -0.2720404128834183,
          -0.19208151516348163,
          -0.11359839913582354,
          -0.21940640591078733,
          -0.21864238487712045,
          -0.2182512299403719,
          -0.21823507677925416,
          -0.22600183892277423,
          -0.21723439329264274,
          -0.2788261717251188,
          -0.2782371973915244,
          -0.10935110133605719,
          -0.28474609972542997,
          -0.21842135122214482,
          -0.28464959151882596,
          -0.19205717476812348,
          -0.24126621655314132,
          0.0323326014900132,
          -0.2459122058939327,
          -0.2191628134160066,
          0.18513388017106408,
          -0.27676494198085794,
          -0.21948136336559795,
          -0.2835189961273385,
          -0.2685023908438091,
          -0.31185383893361845,
          -0.28472243264439867,
          -0.21951025649638578,
          -0.31529197977196505,
          -0.1396271134516395,
          -0.2846816497506709,
          -0.31104148587673097,
          -0.19208156159384734,
          -0.2180092088589332,
          -0.18048358392541547,
          -0.1911289283947168,
          -0.2958470561138358,
          -0.18958954547322163,
          0.7728224985196062,
          -0.19786501332784467,
          -0.19179385061391183,
          0.7324158929277574,
          -0.21962828211392973,
          -0.21686300978640333
         ],
         "y": [
          0.016265688164445975,
          0.23582418468471356,
          0.2354872797164477,
          0.7617375423991788,
          0.235603279885779,
          0.017120773686627035,
          0.23641525715493217,
          0.2356646690226324,
          -0.026252268058936896,
          0.23564295180924497,
          0.23549234572608663,
          0.23546646781031097,
          0.7617117198775022,
          0.12735473038719075,
          0.30854603432809324,
          0.23554012341179487,
          0.23683741093934343,
          0.2355591172597787,
          -0.14621626572764268,
          0.2354498979649313,
          0.24159706063392725,
          0.23580292203037556,
          0.23572400172890248,
          0.016276723635096593,
          0.23652734546609028,
          0.2355324197348472,
          0.23542826019373314,
          0.23564597309312468,
          0.23546347757990355,
          0.2763069324911649,
          0.016254552880975794,
          0.23732259882093412,
          0.23547100258593529,
          0.23604978132864549,
          0.23562215881788726,
          0.020054992215139067,
          0.01641164328665086,
          0.01632884562668714,
          0.016339413517106643,
          0.016158690617286683,
          0.7616593405931116,
          0.235552292525471,
          0.043908494947055975,
          0.23641622659421702,
          0.016392117224149644,
          0.23588811691402123,
          0.2405242321412013,
          0.23626330972579088,
          0.23542782101051232,
          0.23630090437650245,
          0.24036251372372244,
          0.5032241647673689,
          -0.07152595013370587,
          0.23546419016100953,
          0.27326299061803305,
          0.23542497904481394,
          0.016246617760244813,
          0.43554188235139013,
          0.7618393575220317,
          0.01632585073028147,
          0.7617561690687865,
          0.23599243518847557,
          0.23622915655228283,
          0.7617453064381773,
          0.016276403016358236,
          0.23661113125139768,
          0.23584790460418933,
          0.13906828102969726,
          0.7619952732960938,
          0.2357898916855742,
          0.8056203836127035,
          0.23548790508363443,
          0.761757158258965,
          0.23542496187969683,
          0.7617143164469398,
          0.016200413572480168,
          0.2362642841305695,
          0.016212367230360365,
          0.23552553041514634,
          0.25785870282534223,
          0.7656183619264025,
          0.7623652302756335,
          0.23543049383766093,
          0.9810509600707255,
          0.23543965014351512,
          0.7639363863797554,
          0.2359874287043898,
          0.24434602854108284,
          0.23556949457357626,
          0.026194215484026576,
          0.2356258033566075,
          0.761995278413603,
          0.23552668280846553,
          0.23560264574807135,
          0.7618765239874039,
          0.7617053923523203,
          0.5863517132651458,
          0.7644752876313933,
          0.016265926920387416,
          0.2582629575588845,
          0.2354988395596136,
          0.2356650987583513,
          0.23575292327874545,
          0.23575665668830229,
          0.7750030453507949,
          0.23598794029063067,
          0.7630279284870078,
          0.7631317879115124,
          0.2601319770438974,
          0.7617129552658182,
          0.23571941206534394,
          0.7617347445037311,
          0.01627168716568356,
          0.41088561271484203,
          0.2920720212689237,
          0.255690007234308,
          0.2355519132646876,
          0.32603194623418646,
          0.7634801307823809,
          0.23548135363236822,
          0.7619836310356468,
          0.6301386427894132,
          0.9809955286960148,
          0.7617182317290166,
          0.23547449736813864,
          1.0252802136404762,
          0.028054061499566223,
          0.7617270123482653,
          0.9811707121426199,
          0.016265916189139834,
          0.2358056337899191,
          -0.07128553318849383,
          0.016479156595847113,
          0.8493693889687782,
          0.016818168272199917,
          0.44900432057926487,
          0.24031949607801956,
          0.016329025468736283,
          0.44742568578840347,
          0.23544997835514814,
          0.2360605468054642
         ],
         "z": [
          -0.07291010078361908,
          -0.2737891740434592,
          -0.27392554435557026,
          -0.7563668509688393,
          -0.27383055390357924,
          -0.07258901300892459,
          -0.2734248708447848,
          -0.273750427444705,
          -0.03221978723444465,
          -0.27386691508385935,
          -0.2739256293724302,
          -0.2739429143024467,
          -0.7563709263243992,
          -0.027480321609627687,
          -0.2447651894830656,
          -0.2739264311689335,
          -0.2733197056146952,
          -0.27390195204572954,
          -0.7047385068912843,
          -0.27394692893850103,
          -0.2708728645417856,
          -0.2738203781486555,
          -0.2738139911235881,
          -0.0729102859788966,
          -0.273391987975729,
          -0.273928556239447,
          -0.273968851921914,
          -0.2738808661223533,
          -0.27394994278694296,
          -0.240842630345737,
          -0.07290991391330012,
          -0.2732439690449086,
          -0.2739252711957021,
          -0.2734187374953932,
          -0.273859726434962,
          -0.07101916881689545,
          -0.07285391003807332,
          -0.07286381928391862,
          -0.07277833124759311,
          -0.07295508297886406,
          -0.7564106256448446,
          -0.2739221266843433,
          -0.48934349573680774,
          -0.273390123198865,
          -0.07285811803976291,
          -0.27374263502349266,
          -0.2702701032323085,
          -0.27361081629783246,
          -0.27396596348946994,
          -0.2736258434978229,
          -0.27180034881968856,
          -0.5130154532713787,
          0.00745046380389259,
          -0.2739648980865694,
          -0.2520633086144342,
          -0.2739704437121648,
          -0.07290978074753537,
          -0.06992976080826391,
          -0.7563392530328698,
          -0.07283725784187753,
          -0.7563649092060183,
          -0.2735074081674948,
          -0.27342174773804023,
          -0.756375998672463,
          -0.07291028059833075,
          -0.2735183320577567,
          -0.2737895721068692,
          -0.026265040588728566,
          -0.7562268976195139,
          -0.273598441003239,
          -0.7965615687587192,
          -0.2739278092026,
          -0.7563559083975077,
          -0.2739704502547901,
          -0.7563551894339462,
          -0.07293439838071424,
          -0.27353505485424406,
          -0.07293256488733574,
          -0.2739058971018222,
          -0.2518047966353475,
          -0.7553498891115112,
          -0.7559084794496296,
          -0.27396581382533647,
          -0.5346571931858852,
          -0.27396451181801357,
          -0.7541944863860708,
          -0.2737558439394644,
          -0.26510414275551614,
          -0.27389418997434584,
          -0.06748818035894069,
          -0.27381289707056045,
          -0.7561908280697083,
          -0.27393009031091636,
          -0.27380574538705993,
          -0.7562790092435661,
          -0.7563687912200056,
          -0.5955520981756042,
          -0.7539780949066249,
          -0.07291010479037786,
          -0.25068440465015157,
          -0.2739279927030035,
          -0.27378650429213924,
          -0.2737519085117117,
          -0.2737519711651174,
          -0.7525767232763584,
          -0.2737558525248124,
          -0.755644569759362,
          -0.7551954422634041,
          -0.2631147074676218,
          -0.7563668892224483,
          -0.27383250281286864,
          -0.7563600409583712,
          -0.07291208158753555,
          -0.4347481717839851,
          -0.25237895837401425,
          0.10403658727811062,
          -0.2738837963317399,
          -0.23399657395556658,
          -0.7553140057021497,
          -0.2739254449050962,
          -0.7561906326055123,
          -0.635760986858429,
          -0.957378225951909,
          -0.7563642725484255,
          -0.2739228381923974,
          -0.9971650572548616,
          -0.06842113285146276,
          -0.7563554024942721,
          -0.9572054970294005,
          -0.07291010461028799,
          -0.27370770604539363,
          0.007671864393127658,
          -0.0728167460264203,
          -0.8368124282621493,
          -0.07258798262725685,
          -0.05640413641261583,
          -0.271799626905318,
          -0.07286382230199544,
          -0.1648119863319086,
          -0.27396098800654023,
          -0.27357221411135235
         ]
        },
        {
         "hovertemplate": "Clusters=First<br>principal_component1=%{x}<br>principal_component2=%{y}<br>principal_component3=%{z}<extra></extra>",
         "legendgroup": "First",
         "marker": {
          "color": "#ab63fa",
          "symbol": "x"
         },
         "mode": "markers",
         "name": "First",
         "scene": "scene",
         "showlegend": true,
         "type": "scatter3d",
         "x": [
          0.1991155431068223,
          0.13794113368146152,
          1.184834738574267,
          0.1703469053262367,
          0.07053354474787647,
          0.4319675558451593,
          0.11085193738978459,
          0.0459547067603675,
          0.21054938816653815,
          0.23432267266395995,
          0.20983649485552255,
          0.2148080601554444,
          0.3501018995932329,
          0.11085452639623619,
          0.1181358276220799,
          0.045431859875120766,
          -0.08688564464530217,
          0.11296493666739404,
          0.11328995878908586,
          1.6695212094245104,
          0.23061932110557962,
          0.17076532116445794,
          0.1766204090996032,
          0.03641061214143315,
          0.06175121952989338,
          0.11300488085848777,
          0.17212710531712105,
          0.17291104404820837,
          0.034376247448459185,
          0.1735731447517871,
          0.7162213773451696,
          0.171521584327525,
          0.17076532116445794,
          0.9497075150512856,
          0.14338201411692375,
          0.1110442095350043,
          0.034679376063162105,
          0.11133642770606789,
          0.17305419305087175,
          0.1803661167319654,
          0.8973617722508315,
          0.1351193323680663,
          0.17073641421274818,
          0.13981256238756853,
          0.17821993986584078,
          0.08627484021350758,
          0.11090182656185624,
          0.17094428570408676,
          0.1226212694248314,
          1.0384195596626444,
          0.22524532558490587,
          0.1815354649945373,
          0.3645125928923298,
          0.7227286183903279,
          0.2033688657148297,
          0.14352977066113792,
          0.14469690321005188,
          0.045467901493324595,
          0.17626051762788386,
          0.2844981899448459,
          0.04587814921026554,
          0.4368313955297483,
          0.30254263586488345,
          0.11208372270592279,
          0.07600171877354123,
          0.11953480191443298,
          0.2739418951771595,
          0.1714811000180885,
          0.5022746933862331,
          0.17123713166069998,
          0.018520891890790852,
          -0.11914116077358236,
          0.11129135153633413,
          0.11100408367043328,
          0.02480451082264366,
          2.546528179343929,
          0.14968372773413546,
          0.13952014747996214,
          0.3175424312300577,
          0.14339079905220192,
          0.28110758081267295,
          0.14507987537714145,
          0.046036033121157144,
          0.11469968026014622,
          0.17252496681660084,
          0.046268019790976486,
          0.7882587748068817,
          0.013169513072078132,
          0.3050469609867759,
          0.29659820616592497,
          0.14323593727071582,
          0.045399018701720514,
          0.7385326898085879,
          0.1379122629625182,
          0.17040982907605015,
          0.7167527073755775,
          0.3626247984954725,
          0.7287334317538031,
          0.730271111259589,
          0.16284241622542697,
          0.5021963693227054,
          0.1704886012026657,
          0.12943008202674475,
          0.5842902030442139,
          0.11045610657185262
         ],
         "y": [
          -0.7930080966376146,
          -0.9418971181348308,
          -0.6877246722973067,
          -1.205063177688313,
          -0.19061072761460573,
          -0.6483898251197253,
          -0.722610485528588,
          -0.19629152705504208,
          -1.511555014777792,
          -1.32597675630156,
          -1.5117036488741638,
          -0.8155981778857708,
          -2.607106557381565,
          -0.7226072766907603,
          -0.7210050504500981,
          -0.19641559713534154,
          0.18678210665941503,
          -0.7221356406050672,
          -0.7220800500758501,
          -0.3783319377839654,
          -0.902161255963149,
          -1.2049696978276634,
          -1.2487282617831734,
          -0.10831038601931321,
          -0.19274654727020574,
          -0.7221102746586826,
          -1.2046636668688258,
          -1.2044769930196355,
          -0.10874871556825491,
          -1.2043660738633848,
          -3.53820755758905,
          -1.2047997461728601,
          -1.2049696978276634,
          -0.5339727484954098,
          -0.985749641339891,
          -0.7225723096566182,
          -0.10868059482378005,
          -0.7225014512435427,
          -1.2044552480994424,
          -1.202812016409545,
          -0.7784738920908432,
          -0.7173217344983394,
          -1.2049779923471204,
          -0.9414948474913563,
          -1.248369298215744,
          -0.5027622222548892,
          -0.7225991526452894,
          -1.2049350461989832,
          -0.8101217188782747,
          -1.1921281437938587,
          -1.6434750856159208,
          -1.2926998964439855,
          -0.8909806737193905,
          -3.536764069221109,
          -1.4680933086261103,
          -0.9857162977063676,
          -0.9854626772794873,
          -0.19640742833179006,
          -1.2488100705519847,
          -2.1259827335033545,
          -0.10621899845981862,
          -1.6747561124408987,
          -1.5432168845948262,
          -0.7223431838548083,
          -0.2797275242097128,
          -0.7206817116339498,
          -2.038206397277407,
          -1.2048152339860305,
          -1.8283758619118335,
          -1.2048703306209885,
          0.022908788870481953,
          0.4499815227392659,
          -0.7225105099977978,
          -0.7225798090521875,
          -0.020755812741291534,
          -1.2089448904281466,
          -0.9843956035604615,
          -0.9415463269704017,
          -2.389005899321287,
          -0.9857485789453817,
          -0.6859808208677562,
          -0.9853709358316903,
          -0.1962816040495893,
          -0.7217605110094931,
          -1.2045936528739016,
          -0.19623524620313618,
          -3.5932583210964983,
          0.06678078815669342,
          -0.1364086662957674,
          -2.2134220826463653,
          -0.9857831404618869,
          -0.1964231391708082,
          -3.533192012341397,
          -0.9419051622726664,
          -1.2050500864407303,
          -3.538090387272281,
          -0.6660315211977444,
          -3.535295533843059,
          -3.5349401366969255,
          -0.9363011149654122,
          -2.4972490436566126,
          -1.2050318211560629,
          -1.0077932206129803,
          -2.080384398768302,
          -0.7226995230622955
         ],
         "z": [
          -1.2625895581452056,
          -1.1497778003627566,
          -1.4798195236456981,
          -0.9085857667852444,
          -1.8333580540977346,
          -1.352068072579768,
          -1.3507860394257403,
          -1.8332627199462368,
          -0.6269457319251597,
          -0.7829697029699164,
          -0.6271686727976081,
          -1.6419155408537394,
          0.3790238891679846,
          -1.3508225686949662,
          -1.3497222808515108,
          -1.8332155507799206,
          -1.402520091381577,
          -1.3506050483836392,
          -1.3503330860229243,
          -1.1334192645191694,
          -1.561553792246739,
          -0.9085422485027951,
          -0.8683101651474093,
          -1.9132229356852608,
          -1.8318411017421456,
          -1.3508309092934183,
          -0.908425649238701,
          -0.9085054301713441,
          -1.9136608140038072,
          -0.9079189054345306,
          -1.1150463338111645,
          -0.9084774700338971,
          -0.9085422485027951,
          -1.2806881238897474,
          -1.1095689380747276,
          -1.350699166132752,
          -1.913634849222632,
          -1.3507467353550564,
          -0.9083473363748209,
          -0.9077218044755853,
          -0.9834721015844481,
          -1.3464025652497686,
          -0.9085195657833615,
          -1.1493616703364702,
          -0.868166274785924,
          -1.5515385016768897,
          -1.3507834660215892,
          -0.9084490490462935,
          -1.2702132916914914,
          -0.6494877847286948,
          -0.5065013000421799,
          -0.8281331192358721,
          -1.130371280277573,
          -1.1142251760861661,
          -0.6673053530351662,
          -1.1095582258804189,
          -1.1093370468696315,
          -1.8332134335150778,
          -0.8683279542413666,
          -0.06431408656271455,
          -1.9119054216357794,
          -1.6236723874057222,
          -1.3789803991645049,
          -1.3505474609767285,
          -1.750673557315451,
          -1.349727707065199,
          -0.14467804196991255,
          -0.9083915447354539,
          -2.6830215293669277,
          -0.9084086549315078,
          -2.0341763606240932,
          -1.643693522748339,
          -1.3507655794581614,
          -1.3507238381537832,
          -1.9938748420325527,
          -2.2281887863537384,
          -1.1081601476261767,
          -1.1495858403542127,
          0.17694084354416714,
          -1.1095554297902581,
          -1.313383761620221,
          -1.1093836735026685,
          -1.833138897099651,
          -1.3502506473839768,
          -0.9081202322975962,
          -1.8330382292182987,
          -1.4491374780392534,
          -2.0743686421144742,
          -1.8342676633137323,
          0.016320966736473316,
          -1.1095720504926407,
          -1.833216100516511,
          -1.1131579455851737,
          -1.149758503373528,
          -0.9085656973101259,
          -1.1149695817693623,
          -1.329208571880673,
          -1.1153769968971976,
          -1.115382961107997,
          -1.1476455386509818,
          -1.287410088539957,
          -0.9085668286121455,
          -0.6910563127974729,
          -2.4377052906820103,
          -1.350818766280768
         ]
        }
       ],
       "layout": {
        "height": 500,
        "legend": {
         "title": {
          "text": "Clusters"
         },
         "tracegroupgap": 0,
         "x": 0,
         "y": 1
        },
        "margin": {
         "t": 60
        },
        "scene": {
         "aspectmode": "auto",
         "aspectratio": {
          "x": 1,
          "y": 1,
          "z": 1
         },
         "domain": {
          "x": [
           0,
           1
          ],
          "y": [
           0,
           1
          ]
         },
         "xaxis": {
          "title": {
           "text": "principal_component1"
          },
          "type": "linear"
         },
         "yaxis": {
          "title": {
           "text": "principal_component2"
          },
          "type": "linear"
         },
         "zaxis": {
          "title": {
           "text": "principal_component3"
          },
          "type": "linear"
         }
        },
        "template": {
         "data": {
          "bar": [
           {
            "error_x": {
             "color": "#2a3f5f"
            },
            "error_y": {
             "color": "#2a3f5f"
            },
            "marker": {
             "line": {
              "color": "#E5ECF6",
              "width": 0.5
             },
             "pattern": {
              "fillmode": "overlay",
              "size": 10,
              "solidity": 0.2
             }
            },
            "type": "bar"
           }
          ],
          "barpolar": [
           {
            "marker": {
             "line": {
              "color": "#E5ECF6",
              "width": 0.5
             },
             "pattern": {
              "fillmode": "overlay",
              "size": 10,
              "solidity": 0.2
             }
            },
            "type": "barpolar"
           }
          ],
          "carpet": [
           {
            "aaxis": {
             "endlinecolor": "#2a3f5f",
             "gridcolor": "white",
             "linecolor": "white",
             "minorgridcolor": "white",
             "startlinecolor": "#2a3f5f"
            },
            "baxis": {
             "endlinecolor": "#2a3f5f",
             "gridcolor": "white",
             "linecolor": "white",
             "minorgridcolor": "white",
             "startlinecolor": "#2a3f5f"
            },
            "type": "carpet"
           }
          ],
          "choropleth": [
           {
            "colorbar": {
             "outlinewidth": 0,
             "ticks": ""
            },
            "type": "choropleth"
           }
          ],
          "contour": [
           {
            "colorbar": {
             "outlinewidth": 0,
             "ticks": ""
            },
            "colorscale": [
             [
              0,
              "#0d0887"
             ],
             [
              0.1111111111111111,
              "#46039f"
             ],
             [
              0.2222222222222222,
              "#7201a8"
             ],
             [
              0.3333333333333333,
              "#9c179e"
             ],
             [
              0.4444444444444444,
              "#bd3786"
             ],
             [
              0.5555555555555556,
              "#d8576b"
             ],
             [
              0.6666666666666666,
              "#ed7953"
             ],
             [
              0.7777777777777778,
              "#fb9f3a"
             ],
             [
              0.8888888888888888,
              "#fdca26"
             ],
             [
              1,
              "#f0f921"
             ]
            ],
            "type": "contour"
           }
          ],
          "contourcarpet": [
           {
            "colorbar": {
             "outlinewidth": 0,
             "ticks": ""
            },
            "type": "contourcarpet"
           }
          ],
          "heatmap": [
           {
            "colorbar": {
             "outlinewidth": 0,
             "ticks": ""
            },
            "colorscale": [
             [
              0,
              "#0d0887"
             ],
             [
              0.1111111111111111,
              "#46039f"
             ],
             [
              0.2222222222222222,
              "#7201a8"
             ],
             [
              0.3333333333333333,
              "#9c179e"
             ],
             [
              0.4444444444444444,
              "#bd3786"
             ],
             [
              0.5555555555555556,
              "#d8576b"
             ],
             [
              0.6666666666666666,
              "#ed7953"
             ],
             [
              0.7777777777777778,
              "#fb9f3a"
             ],
             [
              0.8888888888888888,
              "#fdca26"
             ],
             [
              1,
              "#f0f921"
             ]
            ],
            "type": "heatmap"
           }
          ],
          "heatmapgl": [
           {
            "colorbar": {
             "outlinewidth": 0,
             "ticks": ""
            },
            "colorscale": [
             [
              0,
              "#0d0887"
             ],
             [
              0.1111111111111111,
              "#46039f"
             ],
             [
              0.2222222222222222,
              "#7201a8"
             ],
             [
              0.3333333333333333,
              "#9c179e"
             ],
             [
              0.4444444444444444,
              "#bd3786"
             ],
             [
              0.5555555555555556,
              "#d8576b"
             ],
             [
              0.6666666666666666,
              "#ed7953"
             ],
             [
              0.7777777777777778,
              "#fb9f3a"
             ],
             [
              0.8888888888888888,
              "#fdca26"
             ],
             [
              1,
              "#f0f921"
             ]
            ],
            "type": "heatmapgl"
           }
          ],
          "histogram": [
           {
            "marker": {
             "pattern": {
              "fillmode": "overlay",
              "size": 10,
              "solidity": 0.2
             }
            },
            "type": "histogram"
           }
          ],
          "histogram2d": [
           {
            "colorbar": {
             "outlinewidth": 0,
             "ticks": ""
            },
            "colorscale": [
             [
              0,
              "#0d0887"
             ],
             [
              0.1111111111111111,
              "#46039f"
             ],
             [
              0.2222222222222222,
              "#7201a8"
             ],
             [
              0.3333333333333333,
              "#9c179e"
             ],
             [
              0.4444444444444444,
              "#bd3786"
             ],
             [
              0.5555555555555556,
              "#d8576b"
             ],
             [
              0.6666666666666666,
              "#ed7953"
             ],
             [
              0.7777777777777778,
              "#fb9f3a"
             ],
             [
              0.8888888888888888,
              "#fdca26"
             ],
             [
              1,
              "#f0f921"
             ]
            ],
            "type": "histogram2d"
           }
          ],
          "histogram2dcontour": [
           {
            "colorbar": {
             "outlinewidth": 0,
             "ticks": ""
            },
            "colorscale": [
             [
              0,
              "#0d0887"
             ],
             [
              0.1111111111111111,
              "#46039f"
             ],
             [
              0.2222222222222222,
              "#7201a8"
             ],
             [
              0.3333333333333333,
              "#9c179e"
             ],
             [
              0.4444444444444444,
              "#bd3786"
             ],
             [
              0.5555555555555556,
              "#d8576b"
             ],
             [
              0.6666666666666666,
              "#ed7953"
             ],
             [
              0.7777777777777778,
              "#fb9f3a"
             ],
             [
              0.8888888888888888,
              "#fdca26"
             ],
             [
              1,
              "#f0f921"
             ]
            ],
            "type": "histogram2dcontour"
           }
          ],
          "mesh3d": [
           {
            "colorbar": {
             "outlinewidth": 0,
             "ticks": ""
            },
            "type": "mesh3d"
           }
          ],
          "parcoords": [
           {
            "line": {
             "colorbar": {
              "outlinewidth": 0,
              "ticks": ""
             }
            },
            "type": "parcoords"
           }
          ],
          "pie": [
           {
            "automargin": true,
            "type": "pie"
           }
          ],
          "scatter": [
           {
            "marker": {
             "colorbar": {
              "outlinewidth": 0,
              "ticks": ""
             }
            },
            "type": "scatter"
           }
          ],
          "scatter3d": [
           {
            "line": {
             "colorbar": {
              "outlinewidth": 0,
              "ticks": ""
             }
            },
            "marker": {
             "colorbar": {
              "outlinewidth": 0,
              "ticks": ""
             }
            },
            "type": "scatter3d"
           }
          ],
          "scattercarpet": [
           {
            "marker": {
             "colorbar": {
              "outlinewidth": 0,
              "ticks": ""
             }
            },
            "type": "scattercarpet"
           }
          ],
          "scattergeo": [
           {
            "marker": {
             "colorbar": {
              "outlinewidth": 0,
              "ticks": ""
             }
            },
            "type": "scattergeo"
           }
          ],
          "scattergl": [
           {
            "marker": {
             "colorbar": {
              "outlinewidth": 0,
              "ticks": ""
             }
            },
            "type": "scattergl"
           }
          ],
          "scattermapbox": [
           {
            "marker": {
             "colorbar": {
              "outlinewidth": 0,
              "ticks": ""
             }
            },
            "type": "scattermapbox"
           }
          ],
          "scatterpolar": [
           {
            "marker": {
             "colorbar": {
              "outlinewidth": 0,
              "ticks": ""
             }
            },
            "type": "scatterpolar"
           }
          ],
          "scatterpolargl": [
           {
            "marker": {
             "colorbar": {
              "outlinewidth": 0,
              "ticks": ""
             }
            },
            "type": "scatterpolargl"
           }
          ],
          "scatterternary": [
           {
            "marker": {
             "colorbar": {
              "outlinewidth": 0,
              "ticks": ""
             }
            },
            "type": "scatterternary"
           }
          ],
          "surface": [
           {
            "colorbar": {
             "outlinewidth": 0,
             "ticks": ""
            },
            "colorscale": [
             [
              0,
              "#0d0887"
             ],
             [
              0.1111111111111111,
              "#46039f"
             ],
             [
              0.2222222222222222,
              "#7201a8"
             ],
             [
              0.3333333333333333,
              "#9c179e"
             ],
             [
              0.4444444444444444,
              "#bd3786"
             ],
             [
              0.5555555555555556,
              "#d8576b"
             ],
             [
              0.6666666666666666,
              "#ed7953"
             ],
             [
              0.7777777777777778,
              "#fb9f3a"
             ],
             [
              0.8888888888888888,
              "#fdca26"
             ],
             [
              1,
              "#f0f921"
             ]
            ],
            "type": "surface"
           }
          ],
          "table": [
           {
            "cells": {
             "fill": {
              "color": "#EBF0F8"
             },
             "line": {
              "color": "white"
             }
            },
            "header": {
             "fill": {
              "color": "#C8D4E3"
             },
             "line": {
              "color": "white"
             }
            },
            "type": "table"
           }
          ]
         },
         "layout": {
          "annotationdefaults": {
           "arrowcolor": "#2a3f5f",
           "arrowhead": 0,
           "arrowwidth": 1
          },
          "autotypenumbers": "strict",
          "coloraxis": {
           "colorbar": {
            "outlinewidth": 0,
            "ticks": ""
           }
          },
          "colorscale": {
           "diverging": [
            [
             0,
             "#8e0152"
            ],
            [
             0.1,
             "#c51b7d"
            ],
            [
             0.2,
             "#de77ae"
            ],
            [
             0.3,
             "#f1b6da"
            ],
            [
             0.4,
             "#fde0ef"
            ],
            [
             0.5,
             "#f7f7f7"
            ],
            [
             0.6,
             "#e6f5d0"
            ],
            [
             0.7,
             "#b8e186"
            ],
            [
             0.8,
             "#7fbc41"
            ],
            [
             0.9,
             "#4d9221"
            ],
            [
             1,
             "#276419"
            ]
           ],
           "sequential": [
            [
             0,
             "#0d0887"
            ],
            [
             0.1111111111111111,
             "#46039f"
            ],
            [
             0.2222222222222222,
             "#7201a8"
            ],
            [
             0.3333333333333333,
             "#9c179e"
            ],
            [
             0.4444444444444444,
             "#bd3786"
            ],
            [
             0.5555555555555556,
             "#d8576b"
            ],
            [
             0.6666666666666666,
             "#ed7953"
            ],
            [
             0.7777777777777778,
             "#fb9f3a"
            ],
            [
             0.8888888888888888,
             "#fdca26"
            ],
            [
             1,
             "#f0f921"
            ]
           ],
           "sequentialminus": [
            [
             0,
             "#0d0887"
            ],
            [
             0.1111111111111111,
             "#46039f"
            ],
            [
             0.2222222222222222,
             "#7201a8"
            ],
            [
             0.3333333333333333,
             "#9c179e"
            ],
            [
             0.4444444444444444,
             "#bd3786"
            ],
            [
             0.5555555555555556,
             "#d8576b"
            ],
            [
             0.6666666666666666,
             "#ed7953"
            ],
            [
             0.7777777777777778,
             "#fb9f3a"
            ],
            [
             0.8888888888888888,
             "#fdca26"
            ],
            [
             1,
             "#f0f921"
            ]
           ]
          },
          "colorway": [
           "#636efa",
           "#EF553B",
           "#00cc96",
           "#ab63fa",
           "#FFA15A",
           "#19d3f3",
           "#FF6692",
           "#B6E880",
           "#FF97FF",
           "#FECB52"
          ],
          "font": {
           "color": "#2a3f5f"
          },
          "geo": {
           "bgcolor": "white",
           "lakecolor": "white",
           "landcolor": "#E5ECF6",
           "showlakes": true,
           "showland": true,
           "subunitcolor": "white"
          },
          "hoverlabel": {
           "align": "left"
          },
          "hovermode": "closest",
          "mapbox": {
           "style": "light"
          },
          "paper_bgcolor": "white",
          "plot_bgcolor": "#E5ECF6",
          "polar": {
           "angularaxis": {
            "gridcolor": "white",
            "linecolor": "white",
            "ticks": ""
           },
           "bgcolor": "#E5ECF6",
           "radialaxis": {
            "gridcolor": "white",
            "linecolor": "white",
            "ticks": ""
           }
          },
          "scene": {
           "xaxis": {
            "backgroundcolor": "#E5ECF6",
            "gridcolor": "white",
            "gridwidth": 2,
            "linecolor": "white",
            "showbackground": true,
            "ticks": "",
            "zerolinecolor": "white"
           },
           "yaxis": {
            "backgroundcolor": "#E5ECF6",
            "gridcolor": "white",
            "gridwidth": 2,
            "linecolor": "white",
            "showbackground": true,
            "ticks": "",
            "zerolinecolor": "white"
           },
           "zaxis": {
            "backgroundcolor": "#E5ECF6",
            "gridcolor": "white",
            "gridwidth": 2,
            "linecolor": "white",
            "showbackground": true,
            "ticks": "",
            "zerolinecolor": "white"
           }
          },
          "shapedefaults": {
           "line": {
            "color": "#2a3f5f"
           }
          },
          "ternary": {
           "aaxis": {
            "gridcolor": "white",
            "linecolor": "white",
            "ticks": ""
           },
           "baxis": {
            "gridcolor": "white",
            "linecolor": "white",
            "ticks": ""
           },
           "bgcolor": "#E5ECF6",
           "caxis": {
            "gridcolor": "white",
            "linecolor": "white",
            "ticks": ""
           }
          },
          "title": {
           "x": 0.05
          },
          "xaxis": {
           "automargin": true,
           "gridcolor": "white",
           "linecolor": "white",
           "ticks": "",
           "title": {
            "standoff": 15
           },
           "zerolinecolor": "white",
           "zerolinewidth": 2
          },
          "yaxis": {
           "automargin": true,
           "gridcolor": "white",
           "linecolor": "white",
           "ticks": "",
           "title": {
            "standoff": 15
           },
           "zerolinecolor": "white",
           "zerolinewidth": 2
          }
         }
        },
        "width": 500
       }
      },
      "text/html": [
       "<div>                            <div id=\"f8cadc4f-4b31-4458-91c8-f736074f269e\" class=\"plotly-graph-div\" style=\"height:500px; width:500px;\"></div>            <script type=\"text/javascript\">                require([\"plotly\"], function(Plotly) {                    window.PLOTLYENV=window.PLOTLYENV || {};                                    if (document.getElementById(\"f8cadc4f-4b31-4458-91c8-f736074f269e\")) {                    Plotly.newPlot(                        \"f8cadc4f-4b31-4458-91c8-f736074f269e\",                        [{\"hovertemplate\":\"Clusters=Second<br>principal_component1=%{x}<br>principal_component2=%{y}<br>principal_component3=%{z}<extra></extra>\",\"legendgroup\":\"Second\",\"marker\":{\"color\":\"#636efa\",\"symbol\":\"circle\"},\"mode\":\"markers\",\"name\":\"Second\",\"scene\":\"scene\",\"showlegend\":true,\"type\":\"scatter3d\",\"x\":[-0.41787462586730484,-0.39656383123362066,-0.4827708555930051,-0.3904431730842157,-0.5009573101629036,-0.41743127807039876,-0.4082801670159253,-0.416016464033773,-0.4178689292724738,-0.4178488275196805,-0.26008086092996896,-0.41531362224662705,-0.48264070531902176,-0.410497974370797,-0.3418604167632685,-0.493007594702185,-0.493776613407948,-0.3307812142369003,-0.4102663795896596,-0.4157671655291168,0.0247700925235127,-0.4831296022431704,-0.4830069155071599,-0.3851060596907506,-0.41610516349118193,-0.4829690753352586,-0.49350577170402066,-0.4055306109413998,-0.38940688813635393,-0.2593718459312158,-0.49385361258156596,-0.41785246354564454,-0.4937972120617276,-0.4174972143555625,-0.4831067742446199,-0.6088064991868193,-0.37419076612893293,-0.49315206335716666,-0.37992540314628914,-0.5044111371061589,-0.3904072242058367,-0.04868653336607928,-0.3905014483141523,-0.17338834680848111,-0.41731415457218984,-0.4790904525926525,-0.3902145727215975,-0.48033973393619184,-0.38841535982613806,-0.3851259755418434,-0.3232601439417297,-0.48135617662220487,-0.3853785647032851,-0.4173580962480506,-0.41535374971584926,-0.8235720988136186,-0.4823891531386706,-0.41631300588404807,-0.3904637529073733,-0.48308937187381157,-0.4176233421829388,-0.41784533594844264,-0.5085708944096963,0.09623944654194085,-0.41736845354007635,-0.4639689699462821,-0.4969225037139076,-0.30933931883115,-0.4825493823951443,0.9066352241173495,-0.483032492487961,-0.4172269670028214,-0.4174130424310839,-0.4824314171916079,-0.39029537158974886,-0.4172353438371635,-0.9434937444408587,-0.4174242506574549,-0.411132003267442,-0.48306678182731877,-0.41629236374021966,-0.417690764233759,-0.41779103995683275,-0.37855580856497256,-0.4124580333929696,-0.3904346014401545,-0.4829496177419827,-0.41749393771556315,-0.4176482393507241,-0.4811414977927323,-0.3926658548238359,-0.4819199351386405,-0.4803471467742163,-0.48179372648827906,-0.47623783319198265,-0.41757911653061514,-0.4175681573002731,-0.40775761117765347,-0.48246597552932496,-0.41649063047249074,1.018893635647561,-0.32526595942736325,-0.3232665214790275,-0.4330746899721237,-0.49338104657877574,0.22417085796730996,-0.49348348164161826,-0.43246275374668197,-0.4828437295493751,0.9060555562696911,-0.4170917907495777,-0.41776875008324355,-0.4827470173091569,-0.3240664564664479,-0.41769834702396,0.5665664289713845,-0.3882841924531391,-0.3048345641521586,-0.34101181045234646,-0.417629869341138,-0.38276150900837896,-0.41747806227744766,-0.48109709473434736,0.4066614031251391,-0.4891112397064154,-0.4140759637061708,0.16175892336513384,-0.41623107987972113,-0.48194205753731656,-0.39985207411115425,-0.41779637305774897,-0.35138958359620587,-0.41198321516033237,-0.48284416078738146,-0.5151442329907543,-0.3247163787206336,-0.41783152998367007,-0.4178062298981523,-0.4174221542143977,-0.38111526117884204,-0.34489263050600594,-0.16074515148325555,-0.40004805600978144,-0.41669929673479306,-0.508927199603511,-0.3851056712795788,-0.302946311080613,-0.4076835671631708,-0.48215953417246143,-0.2835940042219006,-0.21989966619492696,-0.9101087073406715,-0.069105403392883,-0.384168024659383,-0.41743919739773705,-0.3847788925463061,0.803760265179014,-0.4167151934572978,-0.507698570757863,-0.33747911408111764,-0.47865081952444466,-0.4824673456411681,0.16726125013366394,-0.4794669294804141,-0.41579932519674767,-0.41701543517734635,-0.4177292024901642,-0.47148626017344697,-0.29691685235829607,-0.1178868455641963,-0.46555747297172323,-0.41681702657423236,-0.4077259423000462,-0.4779863995779876,-0.4146924939335591,-0.8789466012946708,-0.38849599156398656,-0.4110366779682829,-0.3302427711368727,-0.4940021252086189,-0.41512181196732767],\"y\":[0.8102956393790174,0.8151352783213028,1.3366086693013617,0.5910839678621314,1.5127909817174057,0.8103954030119686,0.8125131647424395,0.8107251082121686,0.8102968753457681,0.8103014407069677,-0.4614146405051716,0.8108681923797403,1.3366387503655681,0.766874792014282,0.6019259281418473,1.4244655395226111,1.4242877995889496,0.10867020232536968,0.8119863380638815,0.8107669163427671,0.9126021792565784,1.336529303034518,1.3365560458631376,0.8176111538019065,0.8106884736740896,1.336565517718648,1.4243503980486851,0.8129873194251723,0.5913160583174526,-0.46125006230484156,1.424268067047955,0.8103007616663724,1.4242814253300946,0.8103796420956092,1.336534579331427,1.341708824156985,0.4595141083938402,1.4244240822035554,0.5933571053166072,1.5120449392836466,0.5910922765693324,1.4326567024341705,0.5910723543521387,0.0999386895944761,0.8104184024631595,1.3374009003389113,0.5911338991775986,1.337162012903856,0.591520262870847,0.5922317553848953,0.0652849554668513,1.3369167613018138,0.817483635628875,0.8104078699598503,0.8108621446570962,1.0447622935797605,1.3366923730523916,0.8106420493518798,0.5910793726757172,1.3365381174507616,0.8103503293837134,0.8103024090367736,1.2026097024268743,0.7905648744518153,0.8104126287843457,1.3407158091267024,1.4686542166704424,0.6988409858350465,1.3366585667283781,1.7478217318023421,1.3365511260605039,0.8104391119753223,0.8103955469443691,1.3366809913644846,0.591118451252211,0.8104380696878273,2.6783325611123203,0.8103952151707776,0.8117490560028049,1.3365430159131126,0.8106381080175924,0.8103360371252716,0.810314423268669,0.503602979231948,0.8114668836395308,0.5910861103269742,1.3365693930697495,0.810380399411097,0.8103444244278313,1.002543518366468,0.8159606943011998,1.3367927544487448,1.3371546527699858,1.3368219245027044,1.3380414985668352,0.8103605168422952,0.8103618578542234,0.8124726025902107,1.3366762308108737,0.8105985756837836,1.84960352103594,0.06483426715296524,0.06527864130851546,0.9420953215085817,1.4243743850759627,0.9506218969969078,1.424352500853848,0.9422367556548517,1.3365938418166197,2.6329470018590038,0.8104687877555572,0.810319432372757,1.336613372248759,0.11015822791741034,0.8103338435570746,1.0337917444180662,0.5915703792433137,0.06936449382112883,0.19651587083941557,0.8103488207901557,0.5477210323358888,0.8103849094819207,1.336975835075639,0.22916290808727477,1.4253322060077955,0.8111397265529229,0.9361968992266807,0.810651304259323,1.336795708305396,0.8143159086535371,0.810313080262983,0.6187689747090855,0.8116198649408145,1.3365912425774518,1.599778101871528,0.06495483581261882,0.8103051159344936,0.8103106407563244,0.8103953770361019,0.5481015224043617,0.826337282728364,0.8680792017742579,0.6790707424225431,0.8105537356644317,1.556101733230688,0.547210672938618,-0.11045253404627649,0.8124897160597839,1.3367454438808586,-0.24135923978802756,0.8531486392709713,2.261252869961584,2.519138001646247,0.5474195058956792,0.8103928899633984,0.5472839596988136,1.080578677128176,0.810550061524411,1.601427996445671,0.6927414714296445,1.337496702634029,1.3366775275249105,0.9398887009749763,1.3373758407494927,0.8107430269228802,0.810485466791621,0.8103292504556047,1.3391397088792434,0.8365580300177884,0.6540516162403303,1.3404293344625713,0.810537657616805,0.8125767249995988,1.3376844708118623,0.8110052975250593,2.4863725180163807,0.5915206203491619,0.8118276629490356,0.10878555115144635,1.4242356586711253,0.8108915506855717],\"z\":[0.3721377359145976,0.3732558332587557,-0.11025277404054512,0.5732026086646982,-0.2703392113887371,0.37217386389936596,0.37210052170926894,0.3721305285514274,0.37213884225426125,0.3721398928153083,1.538040959329758,0.37239864960638835,-0.11025327885553857,0.41255915314432656,0.5784247940097568,-0.19071137048433162,-0.1907083876848259,1.0153976066235566,0.3730561907563385,0.3723507534535031,0.37042084592191,-0.11030103562488837,-0.11027894315026228,0.3756219317451415,0.3723565785686801,-0.11028924669026985,-0.19070943820088562,0.3743469167613403,0.5733024139671415,1.5380283233453176,-0.19068100431011722,0.3721376498586147,-0.19068573719085935,0.3721814131460884,-0.11030112642510358,1.0586197481366528,0.6937743054063703,-0.19059795714355998,0.5753692177633281,-0.2710564297648802,0.5732024692294727,-0.05206117883848211,0.5731768785098781,1.0550029396605072,0.3722303584256612,-0.10944999361149838,0.5732423490665165,-0.11014257948485648,0.5736477916920142,0.5743172858734363,1.0557873840764793,-0.10999418517396249,0.3765258126242907,0.3722357953346847,0.37235366405357034,3.6778129277959297,-0.1101910568793443,0.3723348141309771,0.5732004314280572,-0.11029442274449275,0.3721841594189624,0.3721376222127417,0.8097137850806352,0.5359578023860637,0.3721357725248196,-0.10698976672366864,-0.230694802943573,0.5093312193725579,-0.1102355765923213,-0.1942216763797964,-0.11029271735351176,0.3722222108236464,0.3722307419828549,-0.11016832235160662,0.5731975212662052,0.3722097392037706,1.3974530739777187,0.37219918661939344,0.37358016129007987,-0.11028999624514348,0.3724566152941812,0.37216636445122203,0.372144895548397,0.6537334279422429,0.3732452563252222,0.5732003183580092,-0.11028062345221692,0.37218140043695647,0.37218636257619714,0.5877450959311878,0.37429701812051297,-0.11008002385030954,-0.11006355364035252,-0.11008051337689335,-0.10919923915667758,0.37218446665031957,0.372201099027201,0.37435555464641923,-0.11021332950546323,0.3723693589816896,-0.07388886121090564,1.0556145992680326,1.0558551206064584,0.25174942873205874,-0.19064221017993768,0.48250041739825944,-0.1906668703183666,0.2517470552097282,-0.11028068821985608,1.1958190893024874,0.3722436070789174,0.3721468048095558,-0.11024158120340789,1.0162658768307458,0.37217256315863284,0.4247458702604434,0.5733702852706122,1.0582212529754667,0.9351155561397861,0.3721841847359074,0.6137988935970538,0.37216957568811737,-0.10998390477822685,1.1204648890482791,-0.19025250075656536,0.37259698446961237,0.4827424951088351,0.3724699199506154,-0.11019279103292046,0.3740991853935201,0.37214646053907013,0.15683388173232393,0.37263852262286434,-0.11024571853171665,-0.35138737824153893,1.0557027499957519,0.3721443398427638,0.37214875583066126,0.3722036926074596,0.613792508281358,0.3834152100117972,0.39416241524925966,0.4929672674127671,0.37232277008196707,-0.311136280131366,0.6133682000786527,1.2165212458098915,0.3743552674512598,-0.11019194750441463,1.3378267417763687,0.4119969246533309,2.177662192824008,0.6651960871246431,0.613474818333741,0.3721834451749912,0.6133982718719277,0.5362274414705287,0.37232283174072217,-0.3504231514932831,0.503784173633616,-0.10937044466803866,-0.11023589478898856,0.4488652565014054,-0.11031524432247346,0.37258109828894215,0.3722568625734022,0.37213717176489264,-0.10921766912404347,0.3953677035369656,0.5725246281225328,-0.10811213527274405,0.3721674895969626,0.37300119594466963,-0.10985151843257991,0.372486522821788,1.1819536108360673,0.5733823920765505,0.3727883313458424,1.0155228121443367,-0.1907072421430806,0.372691323401469]},{\"hovertemplate\":\"Clusters=Forth<br>principal_component1=%{x}<br>principal_component2=%{y}<br>principal_component3=%{z}<extra></extra>\",\"legendgroup\":\"Forth\",\"marker\":{\"color\":\"#EF553B\",\"symbol\":\"diamond\"},\"mode\":\"markers\",\"name\":\"Forth\",\"scene\":\"scene\",\"showlegend\":true,\"type\":\"scatter3d\",\"x\":[3.1240759697955074,-0.04411582063938185,-0.001978716880188726,-0.04190713694535538,-0.03454216598983619,0.2626521664598675,-0.07616221500578854,3.6622798624361392,-0.06045818406817548,0.286014454593017,-0.1262009095035451,2.0640955064590245,-0.07029897613701123,-0.1039369810676441,4.652786103448571,0.2140167324084572,-0.12088944906267408,-0.08713532343260941,-0.0992483485195395,-0.04541239160841631,0.5301503670059927,-0.15104789339573485,0.0640180252497124,-0.018162812053332544,0.008856599628584469,-0.0946419494133664,-0.1106661624993041,-0.045081168209364815,-0.03456888430618594,0.008864459760884676,0.00903141384963702,-0.09999152384176088,-0.0002025618794845765,-0.03458957070949567,-0.09962862014624645,-0.02393382124458061,-0.1617355188638376,-0.12666987641528624,-0.00013455232051326087,0.7092250484390454,0.05243945518995538,0.0358410892583676,0.020094446349202644,0.056178021954483945,0.009397136228464591,4.264156912675376,-0.004860099750185994,1.9395463479137582,0.009671099113085887,0.25612368161392773,-0.1324125897972888,-0.034393901301297956,-0.01645883557772796,-0.1321972606396829,-0.04271851487424733,-0.1323389037930288,-0.10792656987429011,1.1590841316637643,0.008831706865430236,0.06321798766698591,0.01452835459413659,1.4108879168661697,-0.132417659257408,-0.12316697452082083,0.025363592392212385,10.920478120122992,0.014056459585436566,-0.015920709360254078,-0.08471757975583315,-0.17280295439390683,0.023708528149318717,0.01995554335598177,-0.0777390599664995,-0.03308086299425942,-0.1075511184388383,0.009065249369168148,-0.12678010037346021,-0.09977829865601265,-0.11078514168725567,0.014704349427656261,0.005005101194025509,2.492297747360233,-0.08005737770361698,0.027203766943102278,-0.06715060698136359,0.015688373659787213,-0.006710967413725445,3.3712755651556523,0.10591324309364128,-0.10994170894375677,0.11851311057640937,0.04235143130445408,0.041759217452990806,-0.05096126410878971,-0.03167031932844438,-0.0341739433968262,-0.034560494843540554,0.11238382725114571,-0.05988728251917942,-0.12179398341289491,-0.017564051335572425,-0.045124466668836946,25.42513161769829,0.037593575580741966,-0.03454347236291776],\"y\":[2.209780370521108,-1.1674924836159692,-1.518630693188404,-1.1670158812254119,-1.2555024483131938,-0.4684435862410758,-0.5436868481653917,1.0707053858064957,-1.035954234734085,-0.46232681435394674,-0.4647643126759281,0.74866064590305,-0.9480281156748872,-0.6851261248584901,-0.5627761751166145,-1.560541284235273,-0.5537017819618676,-0.5913068474468423,-0.7291491703718964,-1.1677948820470558,-1.6662999035752117,-1.3384099441929318,-2.044706139538163,-1.3870471521932506,-1.6063472807720363,-0.5478289178819646,-0.6415616646083367,-1.1677198281367633,-1.255508623600921,-1.6063472388141993,-1.6063092967978798,-0.7293119363240874,-1.5182500258100367,-1.2555127594061397,-0.7292298346988124,-1.3432668536569257,-1.2506634000837062,-0.5099359249886379,-1.518221400001793,-1.2378616331034138,-1.9571497266648443,-1.7806023478750856,-1.693972446688439,-1.5957311501928106,-1.606229447790086,1.23950082768023,-0.7983489970839618,0.7344913839670236,-1.6061717568558864,-1.1917068349600495,-0.4661501376998911,-1.2554681805434926,-1.3866736976559426,-0.46610327370005716,-1.167214705135258,-0.46613388139901724,-0.5508122115412487,-1.354212350202124,-1.6063534374731296,-1.1442982714388366,-1.5149767404258823,-1.6125882599318597,-0.4661503413528596,-0.4640895520032874,-1.7378631294004276,0.7542715422460722,-1.6051980561113526,-1.3865402384674328,-0.6808479482131303,-1.1629992415343926,-1.1528652365020728,-1.603941755217118,-0.9046098287763573,-1.2551726093079856,-0.6408866469066513,-1.6063004117099557,-0.5099570037818988,-0.7292652811045339,-0.6415874051618531,-1.6050909055311182,-1.5621504013425473,-1.0620449937554464,-0.8600590760052527,-1.6022665049665246,-0.9923812141128733,-1.5148297175886571,-1.474629019032037,-0.8138568731053936,-1.224262385472467,-0.6414043245944685,-1.5823048497549335,-1.869278993855905,-1.8694029801533982,-1.1239683823761872,-1.254877702518076,-1.2554189376234623,-0.444175007172791,-1.854205119677448,-1.035825672855506,-0.5539112947813326,-1.2068041461839536,-1.1677295584068466,4.042884368800663,-1.599929725084161,-1.2555027502494966],\"z\":[0.5043352582499494,1.0125253083069314,1.3341564565868114,1.0129907240199734,1.0929842196023678,0.495593174820749,0.4540232012917266,0.5776818911335999,0.892105318908991,0.48546992859403904,0.37001289287945616,-0.07834055653992152,0.8119566609514965,0.570479374666287,1.8129046674918616,1.4363379174165702,0.44968256564333275,0.49392895644624113,0.6106444089653258,1.0125684960766401,1.5734384222779962,2.342142029120769,1.81677734655463,1.213613972084353,1.4145856466059132,0.4522892309742143,0.5301398600297578,1.0125882000769648,1.0929843232349326,1.4146104437763192,1.414618824449167,0.6105213721899027,1.3345671234581624,1.0929753752323481,0.610544792252026,1.1733493609167,2.261770724099427,0.40958957065677254,1.3343862948865777,2.5320595181721295,1.736188616637983,1.5761237415932,1.4950358459253899,1.4188936495560394,1.4146828606522035,0.1600483860768795,0.7018637598690778,-0.28234708261878,1.4147605443358326,1.139207668568784,0.3693395547058287,1.0929836445268382,1.213892444702275,0.36937934658278454,1.013151865303094,0.3693501027862258,0.4511219458658419,1.6019517597456854,1.4145913858071362,1.034679589526266,1.336348319995523,1.8938306477211455,0.3693260320101134,0.37037128293335253,1.5352239322531913,3.6292998542361343,1.415301279352076,1.213763269805774,0.572698000943644,2.1813253723711457,1.0269331259821357,1.4167770862180868,0.7713662101790869,1.0930891475629703,0.5307565945358461,1.4146037966165033,0.40952848879029524,0.6105572900869896,0.530115719563772,1.415894631326954,1.3746922505866777,1.8202295306838063,0.7314736385779563,1.4167489724705657,0.8517647588729668,1.3380377857031722,1.2941495359713604,1.7776567266867163,1.109545690057323,0.530278342027651,1.4323747933649518,1.656016360813529,1.6558383386210507,0.9723749348144978,1.0935188376004445,1.0930051046671867,0.37792731344072344,1.671306881879404,0.8921505028035741,0.449692393835922,1.0573864704941593,1.0125844913044828,-0.7867724942297974,1.4176119997856134,1.0929842246694086]},{\"hovertemplate\":\"Clusters=Third<br>principal_component1=%{x}<br>principal_component2=%{y}<br>principal_component3=%{z}<extra></extra>\",\"legendgroup\":\"Third\",\"marker\":{\"color\":\"#00cc96\",\"symbol\":\"square\"},\"mode\":\"markers\",\"name\":\"Third\",\"scene\":\"scene\",\"showlegend\":true,\"type\":\"scatter3d\",\"x\":[-0.19208254817717368,-0.21795407555531654,-0.21945572326652074,-0.28463958016337043,-0.21892381466177002,-0.1882790239616873,-0.21528083412977927,-0.21863307532770776,-0.18071144674825457,-0.2187632210736157,-0.21943380440959503,-0.21955125583159774,-0.28475270131725344,0.30320547245835006,0.10605310008576033,-0.21922708702610824,-0.21341956410099747,-0.21913722867465527,-0.08070213687288315,-0.2196242769993752,-0.1920438287718776,-0.21805584440298742,-0.21839573740368506,-0.19203480154431293,-0.21478510254539443,-0.2192611162037114,-0.2197247969216716,-0.21875445323368117,-0.21956638540567308,-0.03238716891794478,-0.19213072666529452,-0.21129435246952413,-0.21952614873356302,-0.21686212056962612,-0.21885106719940425,-0.17508233815169544,-0.19143289350400466,-0.19179462872773811,-0.1917223790947245,-0.19255997387119284,-0.28499189318766827,-0.21917303940698704,-0.15323178721983566,-0.2152658751510397,-0.19151878042925172,-0.2176627201924911,-0.19650451497972626,-0.21599662476126802,-0.2197258050011303,-0.21583842359249708,-0.19767889097738628,-0.23141045775764799,-0.18159358961389377,-0.21956792948129086,-0.0490475144457152,-0.21973950325263233,-0.19216505916530674,0.710317093200999,-0.2841899869314108,-0.19179937748350082,-0.2845582910059447,-0.2171379919505525,-0.21608602653444992,-0.28460878009084883,-0.19203618874977732,-0.21446127739088694,-0.21785144773611878,0.35432309829930525,-0.2834797929926456,-0.2180435676299346,-0.2899447477978679,-0.2194537155749267,-0.28455121890852625,-0.2197395796352118,-0.284736580487983,-0.1923728314536146,-0.2159689444602647,-0.1923204822919907,-0.21928394334614318,-0.11569649544554927,-0.2675135615334749,-0.2817785983715102,-0.21971418037791438,0.7340445434663034,-0.2196741134924439,-0.27444185606874494,-0.2172366067478901,-0.17834944924771542,-0.21908987222722304,-0.14739479688557383,-0.21882077902560634,-0.2834686019849708,-0.2192864427161422,-0.21891887975910107,-0.284010333136261,-0.28477945006326505,-0.2627773604004328,-0.2720404128834183,-0.19208151516348163,-0.11359839913582354,-0.21940640591078733,-0.21864238487712045,-0.2182512299403719,-0.21823507677925416,-0.22600183892277423,-0.21723439329264274,-0.2788261717251188,-0.2782371973915244,-0.10935110133605719,-0.28474609972542997,-0.21842135122214482,-0.28464959151882596,-0.19205717476812348,-0.24126621655314132,0.0323326014900132,-0.2459122058939327,-0.2191628134160066,0.18513388017106408,-0.27676494198085794,-0.21948136336559795,-0.2835189961273385,-0.2685023908438091,-0.31185383893361845,-0.28472243264439867,-0.21951025649638578,-0.31529197977196505,-0.1396271134516395,-0.2846816497506709,-0.31104148587673097,-0.19208156159384734,-0.2180092088589332,-0.18048358392541547,-0.1911289283947168,-0.2958470561138358,-0.18958954547322163,0.7728224985196062,-0.19786501332784467,-0.19179385061391183,0.7324158929277574,-0.21962828211392973,-0.21686300978640333],\"y\":[0.016265688164445975,0.23582418468471356,0.2354872797164477,0.7617375423991788,0.235603279885779,0.017120773686627035,0.23641525715493217,0.2356646690226324,-0.026252268058936896,0.23564295180924497,0.23549234572608663,0.23546646781031097,0.7617117198775022,0.12735473038719075,0.30854603432809324,0.23554012341179487,0.23683741093934343,0.2355591172597787,-0.14621626572764268,0.2354498979649313,0.24159706063392725,0.23580292203037556,0.23572400172890248,0.016276723635096593,0.23652734546609028,0.2355324197348472,0.23542826019373314,0.23564597309312468,0.23546347757990355,0.2763069324911649,0.016254552880975794,0.23732259882093412,0.23547100258593529,0.23604978132864549,0.23562215881788726,0.020054992215139067,0.01641164328665086,0.01632884562668714,0.016339413517106643,0.016158690617286683,0.7616593405931116,0.235552292525471,0.043908494947055975,0.23641622659421702,0.016392117224149644,0.23588811691402123,0.2405242321412013,0.23626330972579088,0.23542782101051232,0.23630090437650245,0.24036251372372244,0.5032241647673689,-0.07152595013370587,0.23546419016100953,0.27326299061803305,0.23542497904481394,0.016246617760244813,0.43554188235139013,0.7618393575220317,0.01632585073028147,0.7617561690687865,0.23599243518847557,0.23622915655228283,0.7617453064381773,0.016276403016358236,0.23661113125139768,0.23584790460418933,0.13906828102969726,0.7619952732960938,0.2357898916855742,0.8056203836127035,0.23548790508363443,0.761757158258965,0.23542496187969683,0.7617143164469398,0.016200413572480168,0.2362642841305695,0.016212367230360365,0.23552553041514634,0.25785870282534223,0.7656183619264025,0.7623652302756335,0.23543049383766093,0.9810509600707255,0.23543965014351512,0.7639363863797554,0.2359874287043898,0.24434602854108284,0.23556949457357626,0.026194215484026576,0.2356258033566075,0.761995278413603,0.23552668280846553,0.23560264574807135,0.7618765239874039,0.7617053923523203,0.5863517132651458,0.7644752876313933,0.016265926920387416,0.2582629575588845,0.2354988395596136,0.2356650987583513,0.23575292327874545,0.23575665668830229,0.7750030453507949,0.23598794029063067,0.7630279284870078,0.7631317879115124,0.2601319770438974,0.7617129552658182,0.23571941206534394,0.7617347445037311,0.01627168716568356,0.41088561271484203,0.2920720212689237,0.255690007234308,0.2355519132646876,0.32603194623418646,0.7634801307823809,0.23548135363236822,0.7619836310356468,0.6301386427894132,0.9809955286960148,0.7617182317290166,0.23547449736813864,1.0252802136404762,0.028054061499566223,0.7617270123482653,0.9811707121426199,0.016265916189139834,0.2358056337899191,-0.07128553318849383,0.016479156595847113,0.8493693889687782,0.016818168272199917,0.44900432057926487,0.24031949607801956,0.016329025468736283,0.44742568578840347,0.23544997835514814,0.2360605468054642],\"z\":[-0.07291010078361908,-0.2737891740434592,-0.27392554435557026,-0.7563668509688393,-0.27383055390357924,-0.07258901300892459,-0.2734248708447848,-0.273750427444705,-0.03221978723444465,-0.27386691508385935,-0.2739256293724302,-0.2739429143024467,-0.7563709263243992,-0.027480321609627687,-0.2447651894830656,-0.2739264311689335,-0.2733197056146952,-0.27390195204572954,-0.7047385068912843,-0.27394692893850103,-0.2708728645417856,-0.2738203781486555,-0.2738139911235881,-0.0729102859788966,-0.273391987975729,-0.273928556239447,-0.273968851921914,-0.2738808661223533,-0.27394994278694296,-0.240842630345737,-0.07290991391330012,-0.2732439690449086,-0.2739252711957021,-0.2734187374953932,-0.273859726434962,-0.07101916881689545,-0.07285391003807332,-0.07286381928391862,-0.07277833124759311,-0.07295508297886406,-0.7564106256448446,-0.2739221266843433,-0.48934349573680774,-0.273390123198865,-0.07285811803976291,-0.27374263502349266,-0.2702701032323085,-0.27361081629783246,-0.27396596348946994,-0.2736258434978229,-0.27180034881968856,-0.5130154532713787,0.00745046380389259,-0.2739648980865694,-0.2520633086144342,-0.2739704437121648,-0.07290978074753537,-0.06992976080826391,-0.7563392530328698,-0.07283725784187753,-0.7563649092060183,-0.2735074081674948,-0.27342174773804023,-0.756375998672463,-0.07291028059833075,-0.2735183320577567,-0.2737895721068692,-0.026265040588728566,-0.7562268976195139,-0.273598441003239,-0.7965615687587192,-0.2739278092026,-0.7563559083975077,-0.2739704502547901,-0.7563551894339462,-0.07293439838071424,-0.27353505485424406,-0.07293256488733574,-0.2739058971018222,-0.2518047966353475,-0.7553498891115112,-0.7559084794496296,-0.27396581382533647,-0.5346571931858852,-0.27396451181801357,-0.7541944863860708,-0.2737558439394644,-0.26510414275551614,-0.27389418997434584,-0.06748818035894069,-0.27381289707056045,-0.7561908280697083,-0.27393009031091636,-0.27380574538705993,-0.7562790092435661,-0.7563687912200056,-0.5955520981756042,-0.7539780949066249,-0.07291010479037786,-0.25068440465015157,-0.2739279927030035,-0.27378650429213924,-0.2737519085117117,-0.2737519711651174,-0.7525767232763584,-0.2737558525248124,-0.755644569759362,-0.7551954422634041,-0.2631147074676218,-0.7563668892224483,-0.27383250281286864,-0.7563600409583712,-0.07291208158753555,-0.4347481717839851,-0.25237895837401425,0.10403658727811062,-0.2738837963317399,-0.23399657395556658,-0.7553140057021497,-0.2739254449050962,-0.7561906326055123,-0.635760986858429,-0.957378225951909,-0.7563642725484255,-0.2739228381923974,-0.9971650572548616,-0.06842113285146276,-0.7563554024942721,-0.9572054970294005,-0.07291010461028799,-0.27370770604539363,0.007671864393127658,-0.0728167460264203,-0.8368124282621493,-0.07258798262725685,-0.05640413641261583,-0.271799626905318,-0.07286382230199544,-0.1648119863319086,-0.27396098800654023,-0.27357221411135235]},{\"hovertemplate\":\"Clusters=First<br>principal_component1=%{x}<br>principal_component2=%{y}<br>principal_component3=%{z}<extra></extra>\",\"legendgroup\":\"First\",\"marker\":{\"color\":\"#ab63fa\",\"symbol\":\"x\"},\"mode\":\"markers\",\"name\":\"First\",\"scene\":\"scene\",\"showlegend\":true,\"type\":\"scatter3d\",\"x\":[0.1991155431068223,0.13794113368146152,1.184834738574267,0.1703469053262367,0.07053354474787647,0.4319675558451593,0.11085193738978459,0.0459547067603675,0.21054938816653815,0.23432267266395995,0.20983649485552255,0.2148080601554444,0.3501018995932329,0.11085452639623619,0.1181358276220799,0.045431859875120766,-0.08688564464530217,0.11296493666739404,0.11328995878908586,1.6695212094245104,0.23061932110557962,0.17076532116445794,0.1766204090996032,0.03641061214143315,0.06175121952989338,0.11300488085848777,0.17212710531712105,0.17291104404820837,0.034376247448459185,0.1735731447517871,0.7162213773451696,0.171521584327525,0.17076532116445794,0.9497075150512856,0.14338201411692375,0.1110442095350043,0.034679376063162105,0.11133642770606789,0.17305419305087175,0.1803661167319654,0.8973617722508315,0.1351193323680663,0.17073641421274818,0.13981256238756853,0.17821993986584078,0.08627484021350758,0.11090182656185624,0.17094428570408676,0.1226212694248314,1.0384195596626444,0.22524532558490587,0.1815354649945373,0.3645125928923298,0.7227286183903279,0.2033688657148297,0.14352977066113792,0.14469690321005188,0.045467901493324595,0.17626051762788386,0.2844981899448459,0.04587814921026554,0.4368313955297483,0.30254263586488345,0.11208372270592279,0.07600171877354123,0.11953480191443298,0.2739418951771595,0.1714811000180885,0.5022746933862331,0.17123713166069998,0.018520891890790852,-0.11914116077358236,0.11129135153633413,0.11100408367043328,0.02480451082264366,2.546528179343929,0.14968372773413546,0.13952014747996214,0.3175424312300577,0.14339079905220192,0.28110758081267295,0.14507987537714145,0.046036033121157144,0.11469968026014622,0.17252496681660084,0.046268019790976486,0.7882587748068817,0.013169513072078132,0.3050469609867759,0.29659820616592497,0.14323593727071582,0.045399018701720514,0.7385326898085879,0.1379122629625182,0.17040982907605015,0.7167527073755775,0.3626247984954725,0.7287334317538031,0.730271111259589,0.16284241622542697,0.5021963693227054,0.1704886012026657,0.12943008202674475,0.5842902030442139,0.11045610657185262],\"y\":[-0.7930080966376146,-0.9418971181348308,-0.6877246722973067,-1.205063177688313,-0.19061072761460573,-0.6483898251197253,-0.722610485528588,-0.19629152705504208,-1.511555014777792,-1.32597675630156,-1.5117036488741638,-0.8155981778857708,-2.607106557381565,-0.7226072766907603,-0.7210050504500981,-0.19641559713534154,0.18678210665941503,-0.7221356406050672,-0.7220800500758501,-0.3783319377839654,-0.902161255963149,-1.2049696978276634,-1.2487282617831734,-0.10831038601931321,-0.19274654727020574,-0.7221102746586826,-1.2046636668688258,-1.2044769930196355,-0.10874871556825491,-1.2043660738633848,-3.53820755758905,-1.2047997461728601,-1.2049696978276634,-0.5339727484954098,-0.985749641339891,-0.7225723096566182,-0.10868059482378005,-0.7225014512435427,-1.2044552480994424,-1.202812016409545,-0.7784738920908432,-0.7173217344983394,-1.2049779923471204,-0.9414948474913563,-1.248369298215744,-0.5027622222548892,-0.7225991526452894,-1.2049350461989832,-0.8101217188782747,-1.1921281437938587,-1.6434750856159208,-1.2926998964439855,-0.8909806737193905,-3.536764069221109,-1.4680933086261103,-0.9857162977063676,-0.9854626772794873,-0.19640742833179006,-1.2488100705519847,-2.1259827335033545,-0.10621899845981862,-1.6747561124408987,-1.5432168845948262,-0.7223431838548083,-0.2797275242097128,-0.7206817116339498,-2.038206397277407,-1.2048152339860305,-1.8283758619118335,-1.2048703306209885,0.022908788870481953,0.4499815227392659,-0.7225105099977978,-0.7225798090521875,-0.020755812741291534,-1.2089448904281466,-0.9843956035604615,-0.9415463269704017,-2.389005899321287,-0.9857485789453817,-0.6859808208677562,-0.9853709358316903,-0.1962816040495893,-0.7217605110094931,-1.2045936528739016,-0.19623524620313618,-3.5932583210964983,0.06678078815669342,-0.1364086662957674,-2.2134220826463653,-0.9857831404618869,-0.1964231391708082,-3.533192012341397,-0.9419051622726664,-1.2050500864407303,-3.538090387272281,-0.6660315211977444,-3.535295533843059,-3.5349401366969255,-0.9363011149654122,-2.4972490436566126,-1.2050318211560629,-1.0077932206129803,-2.080384398768302,-0.7226995230622955],\"z\":[-1.2625895581452056,-1.1497778003627566,-1.4798195236456981,-0.9085857667852444,-1.8333580540977346,-1.352068072579768,-1.3507860394257403,-1.8332627199462368,-0.6269457319251597,-0.7829697029699164,-0.6271686727976081,-1.6419155408537394,0.3790238891679846,-1.3508225686949662,-1.3497222808515108,-1.8332155507799206,-1.402520091381577,-1.3506050483836392,-1.3503330860229243,-1.1334192645191694,-1.561553792246739,-0.9085422485027951,-0.8683101651474093,-1.9132229356852608,-1.8318411017421456,-1.3508309092934183,-0.908425649238701,-0.9085054301713441,-1.9136608140038072,-0.9079189054345306,-1.1150463338111645,-0.9084774700338971,-0.9085422485027951,-1.2806881238897474,-1.1095689380747276,-1.350699166132752,-1.913634849222632,-1.3507467353550564,-0.9083473363748209,-0.9077218044755853,-0.9834721015844481,-1.3464025652497686,-0.9085195657833615,-1.1493616703364702,-0.868166274785924,-1.5515385016768897,-1.3507834660215892,-0.9084490490462935,-1.2702132916914914,-0.6494877847286948,-0.5065013000421799,-0.8281331192358721,-1.130371280277573,-1.1142251760861661,-0.6673053530351662,-1.1095582258804189,-1.1093370468696315,-1.8332134335150778,-0.8683279542413666,-0.06431408656271455,-1.9119054216357794,-1.6236723874057222,-1.3789803991645049,-1.3505474609767285,-1.750673557315451,-1.349727707065199,-0.14467804196991255,-0.9083915447354539,-2.6830215293669277,-0.9084086549315078,-2.0341763606240932,-1.643693522748339,-1.3507655794581614,-1.3507238381537832,-1.9938748420325527,-2.2281887863537384,-1.1081601476261767,-1.1495858403542127,0.17694084354416714,-1.1095554297902581,-1.313383761620221,-1.1093836735026685,-1.833138897099651,-1.3502506473839768,-0.9081202322975962,-1.8330382292182987,-1.4491374780392534,-2.0743686421144742,-1.8342676633137323,0.016320966736473316,-1.1095720504926407,-1.833216100516511,-1.1131579455851737,-1.149758503373528,-0.9085656973101259,-1.1149695817693623,-1.329208571880673,-1.1153769968971976,-1.115382961107997,-1.1476455386509818,-1.287410088539957,-0.9085668286121455,-0.6910563127974729,-2.4377052906820103,-1.350818766280768]}],                        {\"height\":500,\"legend\":{\"title\":{\"text\":\"Clusters\"},\"tracegroupgap\":0,\"x\":0,\"y\":1},\"margin\":{\"t\":60},\"scene\":{\"domain\":{\"x\":[0.0,1.0],\"y\":[0.0,1.0]},\"xaxis\":{\"title\":{\"text\":\"principal_component1\"}},\"yaxis\":{\"title\":{\"text\":\"principal_component2\"}},\"zaxis\":{\"title\":{\"text\":\"principal_component3\"}}},\"template\":{\"data\":{\"bar\":[{\"error_x\":{\"color\":\"#2a3f5f\"},\"error_y\":{\"color\":\"#2a3f5f\"},\"marker\":{\"line\":{\"color\":\"#E5ECF6\",\"width\":0.5},\"pattern\":{\"fillmode\":\"overlay\",\"size\":10,\"solidity\":0.2}},\"type\":\"bar\"}],\"barpolar\":[{\"marker\":{\"line\":{\"color\":\"#E5ECF6\",\"width\":0.5},\"pattern\":{\"fillmode\":\"overlay\",\"size\":10,\"solidity\":0.2}},\"type\":\"barpolar\"}],\"carpet\":[{\"aaxis\":{\"endlinecolor\":\"#2a3f5f\",\"gridcolor\":\"white\",\"linecolor\":\"white\",\"minorgridcolor\":\"white\",\"startlinecolor\":\"#2a3f5f\"},\"baxis\":{\"endlinecolor\":\"#2a3f5f\",\"gridcolor\":\"white\",\"linecolor\":\"white\",\"minorgridcolor\":\"white\",\"startlinecolor\":\"#2a3f5f\"},\"type\":\"carpet\"}],\"choropleth\":[{\"colorbar\":{\"outlinewidth\":0,\"ticks\":\"\"},\"type\":\"choropleth\"}],\"contour\":[{\"colorbar\":{\"outlinewidth\":0,\"ticks\":\"\"},\"colorscale\":[[0.0,\"#0d0887\"],[0.1111111111111111,\"#46039f\"],[0.2222222222222222,\"#7201a8\"],[0.3333333333333333,\"#9c179e\"],[0.4444444444444444,\"#bd3786\"],[0.5555555555555556,\"#d8576b\"],[0.6666666666666666,\"#ed7953\"],[0.7777777777777778,\"#fb9f3a\"],[0.8888888888888888,\"#fdca26\"],[1.0,\"#f0f921\"]],\"type\":\"contour\"}],\"contourcarpet\":[{\"colorbar\":{\"outlinewidth\":0,\"ticks\":\"\"},\"type\":\"contourcarpet\"}],\"heatmap\":[{\"colorbar\":{\"outlinewidth\":0,\"ticks\":\"\"},\"colorscale\":[[0.0,\"#0d0887\"],[0.1111111111111111,\"#46039f\"],[0.2222222222222222,\"#7201a8\"],[0.3333333333333333,\"#9c179e\"],[0.4444444444444444,\"#bd3786\"],[0.5555555555555556,\"#d8576b\"],[0.6666666666666666,\"#ed7953\"],[0.7777777777777778,\"#fb9f3a\"],[0.8888888888888888,\"#fdca26\"],[1.0,\"#f0f921\"]],\"type\":\"heatmap\"}],\"heatmapgl\":[{\"colorbar\":{\"outlinewidth\":0,\"ticks\":\"\"},\"colorscale\":[[0.0,\"#0d0887\"],[0.1111111111111111,\"#46039f\"],[0.2222222222222222,\"#7201a8\"],[0.3333333333333333,\"#9c179e\"],[0.4444444444444444,\"#bd3786\"],[0.5555555555555556,\"#d8576b\"],[0.6666666666666666,\"#ed7953\"],[0.7777777777777778,\"#fb9f3a\"],[0.8888888888888888,\"#fdca26\"],[1.0,\"#f0f921\"]],\"type\":\"heatmapgl\"}],\"histogram\":[{\"marker\":{\"pattern\":{\"fillmode\":\"overlay\",\"size\":10,\"solidity\":0.2}},\"type\":\"histogram\"}],\"histogram2d\":[{\"colorbar\":{\"outlinewidth\":0,\"ticks\":\"\"},\"colorscale\":[[0.0,\"#0d0887\"],[0.1111111111111111,\"#46039f\"],[0.2222222222222222,\"#7201a8\"],[0.3333333333333333,\"#9c179e\"],[0.4444444444444444,\"#bd3786\"],[0.5555555555555556,\"#d8576b\"],[0.6666666666666666,\"#ed7953\"],[0.7777777777777778,\"#fb9f3a\"],[0.8888888888888888,\"#fdca26\"],[1.0,\"#f0f921\"]],\"type\":\"histogram2d\"}],\"histogram2dcontour\":[{\"colorbar\":{\"outlinewidth\":0,\"ticks\":\"\"},\"colorscale\":[[0.0,\"#0d0887\"],[0.1111111111111111,\"#46039f\"],[0.2222222222222222,\"#7201a8\"],[0.3333333333333333,\"#9c179e\"],[0.4444444444444444,\"#bd3786\"],[0.5555555555555556,\"#d8576b\"],[0.6666666666666666,\"#ed7953\"],[0.7777777777777778,\"#fb9f3a\"],[0.8888888888888888,\"#fdca26\"],[1.0,\"#f0f921\"]],\"type\":\"histogram2dcontour\"}],\"mesh3d\":[{\"colorbar\":{\"outlinewidth\":0,\"ticks\":\"\"},\"type\":\"mesh3d\"}],\"parcoords\":[{\"line\":{\"colorbar\":{\"outlinewidth\":0,\"ticks\":\"\"}},\"type\":\"parcoords\"}],\"pie\":[{\"automargin\":true,\"type\":\"pie\"}],\"scatter\":[{\"marker\":{\"colorbar\":{\"outlinewidth\":0,\"ticks\":\"\"}},\"type\":\"scatter\"}],\"scatter3d\":[{\"line\":{\"colorbar\":{\"outlinewidth\":0,\"ticks\":\"\"}},\"marker\":{\"colorbar\":{\"outlinewidth\":0,\"ticks\":\"\"}},\"type\":\"scatter3d\"}],\"scattercarpet\":[{\"marker\":{\"colorbar\":{\"outlinewidth\":0,\"ticks\":\"\"}},\"type\":\"scattercarpet\"}],\"scattergeo\":[{\"marker\":{\"colorbar\":{\"outlinewidth\":0,\"ticks\":\"\"}},\"type\":\"scattergeo\"}],\"scattergl\":[{\"marker\":{\"colorbar\":{\"outlinewidth\":0,\"ticks\":\"\"}},\"type\":\"scattergl\"}],\"scattermapbox\":[{\"marker\":{\"colorbar\":{\"outlinewidth\":0,\"ticks\":\"\"}},\"type\":\"scattermapbox\"}],\"scatterpolar\":[{\"marker\":{\"colorbar\":{\"outlinewidth\":0,\"ticks\":\"\"}},\"type\":\"scatterpolar\"}],\"scatterpolargl\":[{\"marker\":{\"colorbar\":{\"outlinewidth\":0,\"ticks\":\"\"}},\"type\":\"scatterpolargl\"}],\"scatterternary\":[{\"marker\":{\"colorbar\":{\"outlinewidth\":0,\"ticks\":\"\"}},\"type\":\"scatterternary\"}],\"surface\":[{\"colorbar\":{\"outlinewidth\":0,\"ticks\":\"\"},\"colorscale\":[[0.0,\"#0d0887\"],[0.1111111111111111,\"#46039f\"],[0.2222222222222222,\"#7201a8\"],[0.3333333333333333,\"#9c179e\"],[0.4444444444444444,\"#bd3786\"],[0.5555555555555556,\"#d8576b\"],[0.6666666666666666,\"#ed7953\"],[0.7777777777777778,\"#fb9f3a\"],[0.8888888888888888,\"#fdca26\"],[1.0,\"#f0f921\"]],\"type\":\"surface\"}],\"table\":[{\"cells\":{\"fill\":{\"color\":\"#EBF0F8\"},\"line\":{\"color\":\"white\"}},\"header\":{\"fill\":{\"color\":\"#C8D4E3\"},\"line\":{\"color\":\"white\"}},\"type\":\"table\"}]},\"layout\":{\"annotationdefaults\":{\"arrowcolor\":\"#2a3f5f\",\"arrowhead\":0,\"arrowwidth\":1},\"autotypenumbers\":\"strict\",\"coloraxis\":{\"colorbar\":{\"outlinewidth\":0,\"ticks\":\"\"}},\"colorscale\":{\"diverging\":[[0,\"#8e0152\"],[0.1,\"#c51b7d\"],[0.2,\"#de77ae\"],[0.3,\"#f1b6da\"],[0.4,\"#fde0ef\"],[0.5,\"#f7f7f7\"],[0.6,\"#e6f5d0\"],[0.7,\"#b8e186\"],[0.8,\"#7fbc41\"],[0.9,\"#4d9221\"],[1,\"#276419\"]],\"sequential\":[[0.0,\"#0d0887\"],[0.1111111111111111,\"#46039f\"],[0.2222222222222222,\"#7201a8\"],[0.3333333333333333,\"#9c179e\"],[0.4444444444444444,\"#bd3786\"],[0.5555555555555556,\"#d8576b\"],[0.6666666666666666,\"#ed7953\"],[0.7777777777777778,\"#fb9f3a\"],[0.8888888888888888,\"#fdca26\"],[1.0,\"#f0f921\"]],\"sequentialminus\":[[0.0,\"#0d0887\"],[0.1111111111111111,\"#46039f\"],[0.2222222222222222,\"#7201a8\"],[0.3333333333333333,\"#9c179e\"],[0.4444444444444444,\"#bd3786\"],[0.5555555555555556,\"#d8576b\"],[0.6666666666666666,\"#ed7953\"],[0.7777777777777778,\"#fb9f3a\"],[0.8888888888888888,\"#fdca26\"],[1.0,\"#f0f921\"]]},\"colorway\":[\"#636efa\",\"#EF553B\",\"#00cc96\",\"#ab63fa\",\"#FFA15A\",\"#19d3f3\",\"#FF6692\",\"#B6E880\",\"#FF97FF\",\"#FECB52\"],\"font\":{\"color\":\"#2a3f5f\"},\"geo\":{\"bgcolor\":\"white\",\"lakecolor\":\"white\",\"landcolor\":\"#E5ECF6\",\"showlakes\":true,\"showland\":true,\"subunitcolor\":\"white\"},\"hoverlabel\":{\"align\":\"left\"},\"hovermode\":\"closest\",\"mapbox\":{\"style\":\"light\"},\"paper_bgcolor\":\"white\",\"plot_bgcolor\":\"#E5ECF6\",\"polar\":{\"angularaxis\":{\"gridcolor\":\"white\",\"linecolor\":\"white\",\"ticks\":\"\"},\"bgcolor\":\"#E5ECF6\",\"radialaxis\":{\"gridcolor\":\"white\",\"linecolor\":\"white\",\"ticks\":\"\"}},\"scene\":{\"xaxis\":{\"backgroundcolor\":\"#E5ECF6\",\"gridcolor\":\"white\",\"gridwidth\":2,\"linecolor\":\"white\",\"showbackground\":true,\"ticks\":\"\",\"zerolinecolor\":\"white\"},\"yaxis\":{\"backgroundcolor\":\"#E5ECF6\",\"gridcolor\":\"white\",\"gridwidth\":2,\"linecolor\":\"white\",\"showbackground\":true,\"ticks\":\"\",\"zerolinecolor\":\"white\"},\"zaxis\":{\"backgroundcolor\":\"#E5ECF6\",\"gridcolor\":\"white\",\"gridwidth\":2,\"linecolor\":\"white\",\"showbackground\":true,\"ticks\":\"\",\"zerolinecolor\":\"white\"}},\"shapedefaults\":{\"line\":{\"color\":\"#2a3f5f\"}},\"ternary\":{\"aaxis\":{\"gridcolor\":\"white\",\"linecolor\":\"white\",\"ticks\":\"\"},\"baxis\":{\"gridcolor\":\"white\",\"linecolor\":\"white\",\"ticks\":\"\"},\"bgcolor\":\"#E5ECF6\",\"caxis\":{\"gridcolor\":\"white\",\"linecolor\":\"white\",\"ticks\":\"\"}},\"title\":{\"x\":0.05},\"xaxis\":{\"automargin\":true,\"gridcolor\":\"white\",\"linecolor\":\"white\",\"ticks\":\"\",\"title\":{\"standoff\":15},\"zerolinecolor\":\"white\",\"zerolinewidth\":2},\"yaxis\":{\"automargin\":true,\"gridcolor\":\"white\",\"linecolor\":\"white\",\"ticks\":\"\",\"title\":{\"standoff\":15},\"zerolinecolor\":\"white\",\"zerolinewidth\":2}}},\"width\":500},                        {\"responsive\": true}                    ).then(function(){\n",
       "                            \n",
       "var gd = document.getElementById('f8cadc4f-4b31-4458-91c8-f736074f269e');\n",
       "var x = new MutationObserver(function (mutations, observer) {{\n",
       "        var display = window.getComputedStyle(gd).display;\n",
       "        if (!display || display === 'none') {{\n",
       "            console.log([gd, 'removed!']);\n",
       "            Plotly.purge(gd);\n",
       "            observer.disconnect();\n",
       "        }}\n",
       "}});\n",
       "\n",
       "// Listen for the removal of the full notebook cells\n",
       "var notebookContainer = gd.closest('#notebook-container');\n",
       "if (notebookContainer) {{\n",
       "    x.observe(notebookContainer, {childList: true});\n",
       "}}\n",
       "\n",
       "// Listen for the clearing of the current output cell\n",
       "var outputEl = gd.closest('.output');\n",
       "if (outputEl) {{\n",
       "    x.observe(outputEl, {childList: true});\n",
       "}}\n",
       "\n",
       "                        })                };                });            </script>        </div>"
      ]
     },
     "metadata": {},
     "output_type": "display_data"
    },
    {
     "data": {
      "text/plain": [
       "<Figure size 432x288 with 0 Axes>"
      ]
     },
     "metadata": {},
     "output_type": "display_data"
    }
   ],
   "source": [
    "# Plot the 3 principal components\n",
    "import plotly.express as px\n",
    "fig = px.scatter_3d(\n",
    "    crypto_pca_df,\n",
    "    x=\"principal_component1\",\n",
    "    y=\"principal_component2\",\n",
    "    z=\"principal_component3\",\n",
    "    color=\"Clusters\",\n",
    "    symbol=\"Clusters\",\n",
    "    width=500,\n",
    "    height=500\n",
    ")\n",
    "fig.update_layout(legend=dict(x=0, y=1))\n",
    "plt.savefig(\"clusters.png\", dpi = 500)\n",
    "fig.show()\n",
    "\n"
   ]
  },
  {
   "cell_type": "markdown",
   "metadata": {},
   "source": [
    "# Conclusion\n",
    "Based on the visualizations it is visible that crypto currencies can be clustered together in to 4 groups.  Among them, second, third and fourth are the stronger clusters formed and these are the most preferable clusters for trading.   "
   ]
  },
  {
   "cell_type": "code",
   "execution_count": null,
   "metadata": {},
   "outputs": [],
   "source": []
  }
 ],
 "metadata": {
  "kernelspec": {
   "display_name": "Python 3",
   "language": "python",
   "name": "python3"
  },
  "language_info": {
   "codemirror_mode": {
    "name": "ipython",
    "version": 3
   },
   "file_extension": ".py",
   "mimetype": "text/x-python",
   "name": "python",
   "nbconvert_exporter": "python",
   "pygments_lexer": "ipython3",
   "version": "3.8.5"
  }
 },
 "nbformat": 4,
 "nbformat_minor": 4
}
